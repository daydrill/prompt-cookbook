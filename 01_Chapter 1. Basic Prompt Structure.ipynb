{
 "cells": [
  {
   "cell_type": "markdown",
   "metadata": {},
   "source": [
    "# **Chapter 1. Basic Prompt Structure** "
   ]
  },
  {
   "cell_type": "markdown",
   "metadata": {},
   "source": [
    "Upstage offers various types of APIs, including Chat, Text Embedding, Translation, Grounding Check, Layout Analysis, Key Information Extraction, and Document Processing. In this book, we will exclusively focus on using the `Chat API`.\n",
    "\n",
    "For more information about the APIs, please refer to the following [link](https://github.com/UpstageAI/cookbook?tab=readme-ov-file#api-list)."
   ]
  },
  {
   "cell_type": "markdown",
   "metadata": {},
   "source": [
    "## **Table of Contents**\n",
    "- Use `Ctrl + F` (Windows) or `Cmd + F` (Mac) to locate specific sections by title."
   ]
  },
  {
   "cell_type": "markdown",
   "metadata": {},
   "source": [
    "- **1.1 `Chat API`**  \n",
    "\n",
    "\n",
    "- **1.2 Understanding Parameters**  \n",
    "\n",
    "    - 1.2.1 Paramters  \n",
    "\n",
    "    - 1.2.2 Examples  \n",
    "\n",
    "\n",
    "- **1.3 Understanding Structure**  \n",
    "\n",
    "    - 1.3.1 Input Structure  \n",
    "\n",
    "    - 1.3.2 Example  \n",
    "\n",
    "\n",
    "- **1.4 Understanding System Prompt**\n",
    "\n",
    "    - 1.4.1 System Prompt  \n",
    "\n",
    "    - 1.4.2 Examples  \n",
    "\n",
    "    - 1.4.3 Practice  \n"
   ]
  },
  {
   "cell_type": "markdown",
   "metadata": {},
   "source": [
    "---"
   ]
  },
  {
   "cell_type": "markdown",
   "metadata": {},
   "source": [
    "## **1.1 `Chat API`**"
   ]
  },
  {
   "cell_type": "markdown",
   "metadata": {},
   "source": [
    "The Following is a standard API call format used to interact with Upstage’s API for generating chat completions."
   ]
  },
  {
   "cell_type": "code",
   "execution_count": 1,
   "metadata": {},
   "outputs": [
    {
     "name": "stdout",
     "output_type": "stream",
     "text": [
      "Success!\n",
      "\n",
      " 한국인이 영어를 배우는 것은 여러 가지 이유로 유익할 수 있습니다. 몇 가지 주요 이유는 다음과 같습니다:\n",
      "\n",
      "1. **국제 소통**: 영어는 국제적으로 가장 널리 사용되는 언어 중 하나입니다. 한국인이 영어를 잘하면 해외에서의 소통이 원활해지고, 다양한 문화와 사람들을 만날 기회가 더 많아집니다.\n",
      "\n",
      "2. **취업 기회 확대**: 많은 기업들이 영어 능력을 중요한 조건으로 삼고 있습니다. 영어를 잘 구사하면 글로벌 기업이나 외국계 기업에서 일할 기회가 늘어납니다.\n",
      "\n",
      "3. **정보 접근**: 많은 최신 정보, 연구, 기술 등이 영어로 제공됩니다. 영어를 이해하면 더 많은 자료에 접근할 수 있고, 지식을 확장하는 데 도움이 됩니다.\n",
      "\n",
      "4. **여행**: 외국을 여행할 때 영어를 할 수 있으면 현지인과 소통이 용이하고, 더 풍부한 경험을 할 수 있습니다.\n",
      "\n",
      "5. **학문적 발전**: 많은 학술 연구와 교육 과정이 영어로 진행되므로, 영어를 잘하면 더 많은 학문적 자료에 접근할 수 있습니다.\n",
      "\n",
      "6. **문화 교류**: 영어를 배우면 영화, 음악, 문학 등의 다양한 문화 콘텐츠를 원어로 즐길 수 있어, 문화에 대한 이해도가 깊어집니다.\n",
      "\n",
      "결론적으로, 영어를 배우는 것은 한국인에게 다양한 기회를 제공하고, 개인적인 성장에도 큰 도움이 됩니다. \n",
      "\n",
      "\n"
     ]
    }
   ],
   "source": [
    "from openai import OpenAI\n",
    "\n",
    "# Retrieve the OPENAI_API_KEY variable from the IPython store\n",
    "%store -r OPENAI_API_KEY\n",
    "\n",
    "try:\n",
    "    if OPENAI_API_KEY:\n",
    "        print(\"Success!\")\n",
    "except NameError as ne:\n",
    "    print(f\"Since, {ne}\")\n",
    "    print(\"Please, insert your API key.\")\n",
    "    OPENAI_API_KEY = input(\"OPENAI_API_KEY =\")\n",
    "\n",
    "# Set your API key: \n",
    "# OPENAI_API_KEY = \" \" ←- Insert your API key here. \n",
    "\n",
    "client = OpenAI(\n",
    "    api_key= OPENAI_API_KEY,\n",
    "    base_url=\"https://api.openai.com/v1\"\n",
    ")\n",
    " \n",
    "response = client.chat.completions.create(\n",
    "    model=\"gpt-4o-mini\",\n",
    "    messages=[\n",
    "        {\n",
    "            \"role\": \"user\",\n",
    "            \"content\": \"한국인이 영어를 배울 필요가 있을까?\"\n",
    "        }\n",
    "    ],\n",
    ")\n",
    "\n",
    "print('\\n', response.choices[0].message.content, '\\n\\n')\n"
   ]
  },
  {
   "cell_type": "markdown",
   "metadata": {},
   "source": [
    "---"
   ]
  },
  {
   "cell_type": "markdown",
   "metadata": {},
   "source": [
    "## **1.2 Understanding Parameters**"
   ]
  },
  {
   "cell_type": "markdown",
   "metadata": {},
   "source": [
    "When performing prompt engineering, parameters are key to controlling how the model behaves and the type of output you receive. <br>\n",
    "Here’s a detailed explanation of these parameters and their role in the completion generation process."
   ]
  },
  {
   "cell_type": "markdown",
   "metadata": {},
   "source": [
    "### **1.2.1 Paramters**"
   ]
  },
  {
   "cell_type": "markdown",
   "metadata": {},
   "source": [
    "**`Model`**:\n",
    "\n",
    "The specific model you are intending to interact with. \n",
    "\n",
    "**`Max_Tokens`**: \n",
    "\n",
    "- 출력의 총 토큰 수(단어 또는 단어의 일부)를 제한합니다. max_tokens를 설정하면 모델 출력의 최대 길이를 제어할 수 있습니다. 이는 지나치게 긴 응답을 방지하거나, API 사용 비용을 관리하거나, 특정 용도(예: 짧은 답변, 요약 등)에 맞게 출력을 조정하는 데 유용\n",
    "\n",
    "- **Hard Stop**:\n",
    "    - 설정된 제한을 초과하여 토큰을 생성하지 않도록 모델을 중지\n",
    "    - 토큰 제한에 도달하면 단어 또는 문장이 중간에서 멈출 수 있음\n",
    "\n",
    "- **Prompt Tokens**: 입력 프롬프트에 포함된 토큰 수.\n",
    "\n",
    "- `max_tokens`가 설정된 경우, 입력 토큰과 max_tokens의 합은 모델의 context length (≤ 4096)를 초과해서는 안 됩니다.\n",
    "\n",
    "**`Temperature`**:\n",
    "\n",
    "모델 응답의 무작위성(randomness) 또는 창의성(creativity)을 제어 \n",
    "\n",
    "- 높은 값은 더 유연하게 작동하며, 보다 다양한 텍스트 생성을 유도합니다.\n",
    "- 낮은 값은 모델을 더 결정론적으로 만들어, 일반적으로 더 정확하고 일관된 출력을 생성합니다.\n",
    "\n",
    "허용범위는 **0** ~ **2.0** (`0 ≤ Temperature ≤ 2.0`).\n",
    "\n",
    "- **`0.0`**: 출력이 결정적이며 예측 가능하여, 동일한 프롬프트에 대해 매번 동일한 응답을 반환할 가능성이 높습니다.\n",
    "- **`0.7`**: 창의성과 초점이 균형을 이루는 수준으로, 응답이 다양할 수 있지만 주제에서 크게 벗어나지 않습니다.\n",
    "- **`2.0`**: 매우 창의적이거나 무작위적인 출력을 장려하며, 더 독특하거나 다양한 응답을 생성할 가능성이 있습니다.\n",
    "\n",
    "**`Top_P`**: \n",
    "\n",
    " 이 매개변수는 토큰 선택의 누적 확률을 고려하여 모델 출력의 무작위성을 제어하는 대안적인 방식입니다. Top_P를 사용하면 모델이 응답을 생성할 때 얼마나 \"안전\"하거나 \"위험\"한 선택을 할지 제어할 수 있습니다. 낮은 값은 모델의 샘플링 범위를 줄여 더 높은 확률의 토큰에 집중하도록 강제하며, 높은 값은 응답의 다양성을 증가시킵니다.\n",
    "\n",
    "- **Top_P = 0.9**: 모델은 누적 확률이 90%인 가장 작은 토큰 집합에서 샘플링\n",
    "\n",
    "**! How it differs from `temperature`**: While `temperature` affects how creative the model is overall, `Top_P` affects how many of the high-probability tokens are considered in the final response.\n",
    "\n",
    "> **Summary** \n",
    "> \n",
    "> - **model**: Defines the specific AI model being used.\n",
    "> - **max_tokens**: Limits the length of the response.\n",
    "> - **temperature**: Controls the **creativity or randomness** of the response.\n",
    "> - **top_p**: Controls **how many token choices the model considers** based on probability."
   ]
  },
  {
   "cell_type": "markdown",
   "metadata": {},
   "source": [
    "### **1.2.2 Examples**"
   ]
  },
  {
   "cell_type": "markdown",
   "metadata": {},
   "source": [
    "**Example #1: Configuration**"
   ]
  },
  {
   "cell_type": "code",
   "execution_count": 5,
   "metadata": {},
   "outputs": [],
   "source": [
    "config_model = {\n",
    "    \"model\": \"gpt-4o-mini\",\n",
    "    \"max_tokens\": 500,\n",
    "    \"temperature\": 0.7,\n",
    "    \"top_p\": 0.9,\n",
    "}"
   ]
  },
  {
   "cell_type": "markdown",
   "metadata": {},
   "source": [
    "**Example #2: Temperature and Top_P Adjustment**\n",
    "\n",
    "Objective:  Compare how creativity and randomness affect responses. "
   ]
  },
  {
   "cell_type": "code",
   "execution_count": 13,
   "metadata": {},
   "outputs": [
    {
     "name": "stdout",
     "output_type": "stream",
     "text": [
      "김치찌개는 한국의 대표적인 찌개 중 하나로, 간단하게 만들 수 있습니다. 아래는 기본적인 김치찌개 레시피입니다.\n",
      "\n",
      "### 재료\n",
      "- 잘 익은 김치 2컵\n",
      "- 돼지고기 (목살 또는 삼겹살) 200g\n",
      "- 두부 1/2모\n",
      "- 대파 1대\n",
      "- 양파 1개\n",
      "- 마늘 2~3쪽\n",
      "- 고춧가루 1~2큰술 (취향에 따라 조절)\n",
      "- 국간장 1큰술\n",
      "- 소금, 후추 약간\n",
      "- 물 4컵\n",
      "\n",
      "### 조리 방법\n",
      "1. **재료 손질**: \n",
      "   - 김치는 먹기 좋은 크기로 자르고, 돼지고기는 한 입 크기로 썰어줍니다.\n",
      "   - 두부는 깍둑썰기하고, 대파는 송송 썰고, 양파는 채 썰어줍니다.\n",
      "   - 마늘은 다져줍니다.\n",
      "\n",
      "2. **고기 볶기**: \n",
      "   - 냄비에 돼지고기를 넣고 중불에서 볶아 기름이 나올 때까지 익힙니다.\n",
      "   - 고기가 익으면 다진 마늘과 양파를 넣고 함께 볶아줍니다.\n",
      "\n",
      "3. **김치 넣기**: \n",
      "   - 볶은 고기와 양파에 김치를 넣고, 김치가 익을 때까지 5~7분 정도 볶아줍니다.\n",
      "\n",
      "4. **국물 만들기**: \n",
      "   - 볶은 재료에 물을 붓고, 고춧가루와 국간장을 넣습니다. 끓기 시작하면 중불로 줄여 10~15분 정도 끓입니다.\n",
      "\n",
      "5. \n",
      "\n",
      "\n"
     ]
    }
   ],
   "source": [
    "config_robust = {\n",
    "    \"model\": \"gpt-4o-mini\",\n",
    "    \"messages\": [\n",
    "        {\n",
    "            \"role\": \"user\",\n",
    "            \"content\": \"김치찌개 끓이는 방법은?\"\n",
    "        }\n",
    "    ],\n",
    "    \"max_tokens\": 400,\n",
    "    \"temperature\": 0.0,\n",
    "    \"top_p\": 0.8\n",
    "}\n",
    "\n",
    "response = client.chat.completions.create(**config_robust)\n",
    "print(response.choices[0].message.content, '\\n\\n')"
   ]
  },
  {
   "cell_type": "code",
   "execution_count": 12,
   "metadata": {},
   "outputs": [
    {
     "name": "stdout",
     "output_type": "stream",
     "text": [
      "김치찌개는 한국의 대표적인 찌개로, 간단하게 만들 수 있습니다. 아래는 기본적인 김치찌개 레시피입니다.\n",
      "\n",
      "### 재료\n",
      "- 잘 익은 김치 200g\n",
      "- 돼지고기 (목살 또는 삼겹살) 150g\n",
      "- 두부 1/2 모\n",
      "- 대파 1대\n",
      "- 마늘 2~3쪽\n",
      "- 고춧가루 1~2 큰술 (취향에 따라 조절)\n",
      "- 국간장 1 큰술\n",
      "- 소금, 후추 약간\n",
      "- 물 3~4컵\n",
      "\n",
      "### 조리 방법\n",
      "1. **재료 준비**: \n",
      "   - 김치는 적당한 크기로 자르고, 돼지고기도 한 입 크기로 썰어 준비합니다. \n",
      "   - 두부는 깍둑썰기로 자르고, 대파는 어슷하게 썰어줍니다. 마늘은 다져줍니다.\n",
      "\n",
      "2. **돼지고기 볶기**: \n",
      "   - 냄비에 돼지고기를 넣고 중불에서 볶아 기름이 조금 나올 때까지 조리합니다.\n",
      "\n",
      "3. **김치 추가**: \n",
      "   - 고기가 익으면 준비한 김치를 넣고 함께 볶아줍니다. 이때, 김치와 고기가 잘 섞이도록 볶아줍니다.\n",
      "\n",
      "4. **물 추가**: \n",
      "   - 볶은 김치와 고기에 물 3~4컵을 붓고 끓여줍니다. 끓기 시작하면 중불로 줄입니다.\n",
      "\n",
      "5. **양념하기**: \n",
      "   - 끓는 국물에 고춧가루, 국간장, 다진 마늘을 추가하고, 원하는 간에 따라 소금과 후추로 간을 맞 \n",
      "\n",
      "\n"
     ]
    }
   ],
   "source": [
    "config_creative = {\n",
    "    \"model\": \"gpt-4o-mini\",\n",
    "    \"messages\": [\n",
    "        {\n",
    "            \"role\": \"user\",\n",
    "            \"content\": \"김치찌개 끓이는 방법은?\"\n",
    "        }\n",
    "    ],\n",
    "    \"max_tokens\": 400,\n",
    "    \"temperature\": 1.0,\n",
    "    \"top_p\": 1.0\n",
    "}\n",
    "\n",
    "response = client.chat.completions.create(**config_creative)\n",
    "print(response.choices[0].message.content, '\\n\\n')"
   ]
  },
  {
   "cell_type": "markdown",
   "metadata": {},
   "source": [
    "**Example #3: Limiting Output with Max_Tokens**\n",
    "\n",
    "Objective: Control the length of responses and stop them at specific points. "
   ]
  },
  {
   "cell_type": "code",
   "execution_count": 14,
   "metadata": {},
   "outputs": [
    {
     "name": "stdout",
     "output_type": "stream",
     "text": [
      "Upstage AI models handle natural language processing (NLP) by simulating how humans understand and use language, allowing them to interpret, generate, and respond to text in a way that feels natural and meaningful.\n",
      "\n",
      "Here’s a simple breakdown of how it works:\n",
      "\n",
      "1. **Understanding Language**: Just like how we learn language by listening and reading, Upstage AI models are trained on a vast amount of written text from books, articles, and websites. This training helps the model learn the rules of grammar, the meanings of words, and how sentences are structured.\n",
      "\n",
      "2. **Recognizing Patterns**: As the model processes this text, it starts to recognize patterns. For instance, it learns that \"The cat is on the mat\" is a complete thought, while \"The cat on\" is incomplete. This helps the model understand what makes sense and what doesn’t.\n",
      "\n",
      "3. **Context Matters**: Upstage AI models also pay attention to context. This means they can understand that the word \"bank\" can refer to a financial institution or the side of a river, depending on the surrounding words. By considering context, the model can provide more accurate and relevant responses.\n",
      "\n",
      "4. **Generating Responses**: When you ask a question or give a command, the model uses everything it has learned to generate a response. It doesn’t just pull a pre-written answer from a database; instead, it creates a new response on the fly based on the patterns and knowledge it has absorbed.\n",
      "\n",
      "5. **Learning from Feedback**: Over time, Upstage AI models can improve by learning from feedback. If they receive corrections or additional information, they can adjust their understanding and become even better at handling language.\n",
      "\n",
      "In summary, Upstage AI models process language by learning from a lot of text, recognizing patterns and context, generating coherent responses, and continually improving from feedback, all of which enables them to communicate effectively with users. \n",
      "\n",
      "\n"
     ]
    }
   ],
   "source": [
    "config_output_400 = {\n",
    "    \"model\": \"gpt-4o-mini\",\n",
    "    \"messages\": [\n",
    "        {\n",
    "            \"role\": \"user\",\n",
    "            \"content\": \"Explain how Upstage AI models handle natural language processing. Explain it in a way that non-developers can easily understand.\"\n",
    "        }\n",
    "    ],\n",
    "    \"max_tokens\": 400,\n",
    "    \"temperature\": 0.7,\n",
    "}\n",
    "\n",
    "response = client.chat.completions.create(**config_output_400)\n",
    "print(response.choices[0].message.content, '\\n\\n')"
   ]
  },
  {
   "cell_type": "code",
   "execution_count": 15,
   "metadata": {},
   "outputs": [
    {
     "name": "stdout",
     "output_type": "stream",
     "text": [
      "Upstage AI models handle natural language processing (NLP) by using advanced algorithms and techniques that allow computers to understand, interpret, and generate human language in a way that's meaningful and useful. Here's a \n",
      "\n",
      "\n"
     ]
    }
   ],
   "source": [
    "config_output_40 = {\n",
    "    \"model\": \"gpt-4o-mini\",\n",
    "    \"messages\": [\n",
    "        {\n",
    "            \"role\": \"user\",\n",
    "            \"content\": \"Explain how Upstage AI models handle natural language processing. Explain it in a way that non-developers can easily understand.\"\n",
    "        }\n",
    "    ],\n",
    "    \"max_tokens\": 40,\n",
    "    \"temperature\": 0.7,\n",
    "}\n",
    "\n",
    "response = client.chat.completions.create(**config_output_40)\n",
    "print(response.choices[0].message.content, '\\n\\n')"
   ]
  },
  {
   "cell_type": "markdown",
   "metadata": {},
   "source": [
    "---"
   ]
  },
  {
   "cell_type": "markdown",
   "metadata": {},
   "source": [
    "## **1.3 Understanding Structure**"
   ]
  },
  {
   "cell_type": "markdown",
   "metadata": {},
   "source": [
    "### **1.3.1 Input Structure** "
   ]
  },
  {
   "cell_type": "markdown",
   "metadata": {},
   "source": [
    "**`messages`** :\n",
    "\n",
    "This is an array containing the conversation context. It includes exchanges between the user and the model. Each element contains: \n",
    "\n",
    "- “**role**”:\n",
    "    \n",
    "    The role can be `\"user\"`, `\"assistant\"`, or `\"system\"`, indicating the source of the message.\n",
    "    \n",
    "    In the case of `\"role\": \"system\"`, it sets the behavior, tone, and knowledge base of the assistant, acting as an initial instruction.\n",
    "    \n",
    "    In the case of `\"role\": \"user\"`, it specifies that the message comes from the user.\n",
    "    \n",
    "    In the case of `\"role\": \"assistant\"`, it contains responses generated by the AI to address the user’s queries or continue the conversation."
   ]
  },
  {
   "cell_type": "markdown",
   "metadata": {},
   "source": [
    "### **1.3.2 Example**"
   ]
  },
  {
   "cell_type": "code",
   "execution_count": null,
   "metadata": {},
   "outputs": [],
   "source": [
    "{\n",
    "  \"role\": \"system\",\n",
    "  \"content\": \"You are my Assistant. Your role is to answer my questions faithfully and in detail.\"\n",
    "}"
   ]
  },
  {
   "cell_type": "code",
   "execution_count": null,
   "metadata": {},
   "outputs": [],
   "source": [
    "{\n",
    "  \"role\": \"user\",\n",
    "  \"content\": \"Hello, Solar. Can you help me plan a weekend trip to New York City?\"\n",
    "}"
   ]
  },
  {
   "cell_type": "code",
   "execution_count": null,
   "metadata": {},
   "outputs": [],
   "source": [
    "{\n",
    "  \"role\": \"assistant\",\n",
    "  \"content\": \"Hello! I'd be happy to help you plan your weekend trip to New York City. Let's start by discussing your interests and preferences. Are you looking for sightseeing, shopping, diningor perhaps a mix of all?\"\n",
    "}"
   ]
  },
  {
   "cell_type": "markdown",
   "metadata": {},
   "source": [
    "---"
   ]
  },
  {
   "cell_type": "markdown",
   "metadata": {},
   "source": [
    "## **1.4 Understanding System Prompt**"
   ]
  },
  {
   "cell_type": "markdown",
   "metadata": {},
   "source": [
    "### **1.4.1 System Prompt**"
   ]
  },
  {
   "cell_type": "markdown",
   "metadata": {},
   "source": [
    "**시스템 프롬프트**는 AI 모델이 사용자 입력을 해석하고 응답하는 방식을 결정하는 데 중요한 역할을 합니다. 프롬프트 엔지니어링의 맥락에서, 시스템 프롬프트를 효과적으로 이해하고 활용하면 모델의 동작을 안내하고, 사용자 기대에 부합하는 응답을 보장할 수 있습니다. 이 책에서는 **두 가지 유형의 시스템 프롬프트: 짧은 버전과 긴 버전**을 소개합니다.\n"
   ]
  },
  {
   "cell_type": "markdown",
   "metadata": {},
   "source": [
    "> **Tips**:\n",
    ">\n",
    "> If the system prompt is short, the responses tend to be brief; if the system prompt is long, the responses are generally longer. "
   ]
  },
  {
   "cell_type": "markdown",
   "metadata": {},
   "source": [
    "### **1.4.2 Examples**"
   ]
  },
  {
   "cell_type": "markdown",
   "metadata": {},
   "source": [
    "**Example #1: Short Version**"
   ]
  },
  {
   "cell_type": "code",
   "execution_count": 16,
   "metadata": {},
   "outputs": [
    {
     "name": "stdout",
     "output_type": "stream",
     "text": [
      "Blockchain is a decentralized and distributed digital ledger technology that securely records transactions across multiple computers in such a way that the registered transactions cannot be altered retroactively. This technology is the backbone of cryptocurrencies, such as Bitcoin, but its applications extend far beyond that. Here’s a detailed explanation of its key components, functionalities, and implications:\n",
      "\n",
      "### Key Components of Blockchain\n",
      "\n",
      "1. **Blocks**: The basic unit of a blockchain is a block, which contains a list of transactions. Each block has:\n",
      "   - **Data**: Information regarding the transactions.\n",
      "   - **Nonce**: A random number used in the mining process.\n",
      "   - **Hash**: A cryptographic hash of the block’s data, which ensures the integrity of the block.\n",
      "   - **Previous Hash**: A reference to the hash of the previous block, linking it to the chain.\n",
      "\n",
      "2. **Chain**: A blockchain is formed by linking blocks together in a linear sequence, where each block contains the hash of the previous block. This creates a chain of blocks that is tamper-resistant.\n",
      "\n",
      "3. **Nodes**: These are the individual computers that participate in the blockchain network. Each node has a copy of the entire blockchain and participates in validating and relaying transactions.\n",
      "\n",
      "4. **Consensus Mechanisms**: To validate transactions and add new blocks to the blockchain, a consensus mechanism is used. The most common types include:\n",
      "   - **Proof of Work (PoW)**: Requires participants (miners) to solve complex mathematical problems to validate transactions.\n",
      "   - **Proof of Stake (PoS)**: Validators are chosen based on the number of coins they hold and are willing to \"stake\" as collateral.\n",
      "\n",
      "5. **Smart Contracts**: These are self-executing contracts with the terms of the agreement directly written into code. They automatically enforce and execute the contract when predefined conditions are met.\n",
      "\n",
      "### How Blockchain Works\n",
      "\n",
      "1. **Transaction Initiation**: A user initiates a transaction (e.g., sending cryptocurrency) which is then transmitted to the network.\n",
      "2. **Transaction Validation**: Nodes in the network validate the transaction using consensus rules. This may involve checking the sender's balance and ensuring that they have the right to make the transaction.\n",
      "3. **Block Creation**: Validated transactions are grouped together into a block. Miners or validators then compete to add this block to the blockchain.\n",
      "4. **Consensus Achievement**: The network reaches consensus on which block is valid and should be added to the blockchain.\n",
      "5. **Block Addition**: The new block is added to the existing blockchain, and all nodes update their copies of the blockchain.\n",
      "6. **Transaction Completion**: The transaction is considered complete, and the updated state of the blockchain is reflected across all nodes.\n",
      "\n",
      "### Characteristics of Blockchain\n",
      "\n",
      "1. **Decentralization**: Unlike traditional ledgers maintained by a central authority, blockchain operates on a peer-to-peer network, reducing the risk of central points of failure.\n",
      "\n",
      "2. **Transparency**: All transactions are visible to participants in the network, which fosters trust and accountability.\n",
      "\n",
      "3. **Immutability**: Once a block is added to the blockchain, it is nearly impossible to alter or delete the information within it without consensus from the network, making it secure against fraud.\n",
      "\n",
      "4. **Security**: Cryptographic techniques safeguard the data, ensuring that only authorized parties can access or modify it.\n",
      "\n",
      "### Applications of Blockchain\n",
      "\n",
      "1. **Cryptocurrencies**: The most well-known application, enabling peer-to-peer transactions without intermediaries.\n",
      "\n",
      "2. **Supply Chain Management**: Enhances transparency and traceability in supply chains by recording every step of the process on a blockchain.\n",
      "\n",
      "3. **Financial Services**: Facilitates cross-border payments, smart contracts, and decentralized finance (DeFi) applications.\n",
      "\n",
      "4. **Healthcare**: Secures patient data and enables sharing between authorized parties while maintaining privacy.\n",
      "\n",
      "5. **Voting Systems**: Provides secure and transparent voting processes that can reduce fraud and increase voter confidence.\n",
      "\n",
      "6. **Identity Management**: Offers a way to securely manage identities, reducing fraud and enhancing privacy.\n",
      "\n",
      "### Challenges and Limitations\n",
      "\n",
      "1. **Scalability**: Many blockchains face challenges in handling a high volume of transactions efficiently.\n",
      "\n",
      "2. **Energy Consumption**: Some consensus mechanisms, particularly Proof of Work, are criticized for their high energy consumption.\n",
      "\n",
      "3. **Regulatory Issues**: The regulatory environment for blockchain and cryptocurrencies is still evolving, leading to uncertainty.\n",
      "\n",
      "4. **Interoperability**: Different blockchains often operate in silos, limiting their ability to communicate and interact with one another.\n",
      "\n",
      "5. **User Adoption**: The complexity of the technology can hinder widespread adoption among non-technical users.\n",
      "\n",
      "### Conclusion\n",
      "\n",
      "Blockchain technology holds significant potential to transform various industries by enhancing transparency, security, and efficiency. However, challenges remain that must be addressed for broader adoption. As the technology matures, we can expect to see innovative applications and solutions that leverage its unique properties. \n",
      "\n",
      "\n"
     ]
    }
   ],
   "source": [
    "config_model = {\n",
    "    \"model\": \"gpt-4o-mini\",\n",
    "    \"max_tokens\": 2000,\n",
    "    \"temperature\": 0.7,\n",
    "    \"top_p\": 0.9,\n",
    "}\n",
    "\n",
    "message = [\n",
    "    {\n",
    "        \"role\": \"system\",\n",
    "        \"content\": \"You are an AI assistant to help user's various tasks. Please provide me with an accurate information.\"\n",
    "    },\n",
    "    {\n",
    "        \"role\": \"user\",\n",
    "        \"content\": \"Explain about Blockchain in detail.\"\n",
    "    }\n",
    "]\n",
    "\n",
    "config = {**config_model, \"messages\": message}\n",
    "\n",
    "response = client.chat.completions.create(**config)\n",
    "print(response.choices[0].message.content, '\\n\\n')"
   ]
  },
  {
   "cell_type": "markdown",
   "metadata": {},
   "source": [
    "**Example #2: Long Version**"
   ]
  },
  {
   "cell_type": "code",
   "execution_count": 17,
   "metadata": {},
   "outputs": [
    {
     "name": "stdout",
     "output_type": "stream",
     "text": [
      "Blockchain is a decentralized digital ledger technology that records transactions across many computers in such a way that the registered transactions cannot be altered retroactively. This ensures the security, transparency, and integrity of the data. Here’s a detailed breakdown of its key components and features:\n",
      "\n",
      "### Key Components of Blockchain:\n",
      "\n",
      "1. **Blocks**:\n",
      "   - A blockchain is made up of a series of blocks, each containing a list of transactions.\n",
      "   - Each block has three main components:\n",
      "     - **Data**: Information about the transactions (e.g., sender, receiver, amount).\n",
      "     - **Hash**: A unique identifier for the block created by a cryptographic function, which is based on the block's content. If the content changes, the hash changes as well.\n",
      "     - **Previous Block Hash**: Links the current block to the previous one, forming a chain. This is what gives blockchain its name.\n",
      "\n",
      "2. **Chain**:\n",
      "   - The blocks are linked in chronological order, forming a chain. This structure helps prevent tampering because altering any single block would require changing all subsequent blocks.\n",
      "\n",
      "3. **Nodes**:\n",
      "   - These are the individual computers or devices that participate in the blockchain network. Each node has a copy of the entire blockchain and can verify new transactions and blocks.\n",
      "\n",
      "4. **Consensus Mechanism**:\n",
      "   - To validate transactions and add them to the blockchain, nodes must reach a consensus. Different blockchains use various consensus mechanisms:\n",
      "     - **Proof of Work (PoW)**: Miners solve complex mathematical problems to validate transactions (used by Bitcoin).\n",
      "     - **Proof of Stake (PoS)**: Validators are chosen based on the number of coins they hold and are willing to \"stake\" as collateral (used by Ethereum 2.0).\n",
      "     - Other mechanisms include Delegated Proof of Stake (DPoS), Practical Byzantine Fault Tolerance (PBFT), and more.\n",
      "\n",
      "### Key Features of Blockchain:\n",
      "\n",
      "1. **Decentralization**:\n",
      "   - Unlike traditional databases controlled by a central authority, blockchain operates on a distributed network of nodes, reducing the risk of single points of failure and enhancing security.\n",
      "\n",
      "2. **Transparency**:\n",
      "   - Transactions on a public blockchain are visible to all participants, promoting transparency. However, private blockchains may restrict access to certain users.\n",
      "\n",
      "3. **Immutability**:\n",
      "   - Once data is recorded on a blockchain, it is nearly impossible to alter. This makes the system resistant to fraud and unauthorized changes.\n",
      "\n",
      "4. **Security**:\n",
      "   - Blockchain employs cryptographic techniques to secure data. Each block is linked to the previous one, and altering one block would require the consensus of the entire network.\n",
      "\n",
      "5. **Smart Contracts**:\n",
      "   - These are self-executing contracts with the terms directly written into code. They automatically execute and enforce agreements without the need for intermediaries.\n",
      "\n",
      "### Applications of Blockchain:\n",
      "\n",
      "1. **Cryptocurrencies**: Bitcoin, Ethereum, and other digital currencies utilize blockchain to record transactions securely.\n",
      "2. **Supply Chain Management**: Blockchain can track products from origin to consumer, enhancing transparency and reducing fraud.\n",
      "3. **Healthcare**: Securely sharing patient records while maintaining privacy and compliance with regulations.\n",
      "4. **Finance**: Streamlining cross-border payments and reducing transaction costs.\n",
      "5. **Voting Systems**: Providing secure and transparent voting processes to increase trust in electoral outcomes.\n",
      "6. **Digital Identity**: Allowing individuals to control their personal information and verify their identity without relying on a central authority.\n",
      "\n",
      "### Challenges and Limitations:\n",
      "\n",
      "1. **Scalability**: Many blockchains struggle with scaling to handle a large number of transactions quickly.\n",
      "2. **Energy Consumption**: Some consensus mechanisms, like PoW, are energy-intensive and raise environmental concerns.\n",
      "3. **Regulatory Issues**: The legal status of blockchain and cryptocurrencies varies by jurisdiction, leading to uncertainty in some areas.\n",
      "4. **Interoperability**: Different blockchain platforms may not easily communicate with one another, complicating integrations.\n",
      "\n",
      "In summary, blockchain technology offers a revolutionary approach to data management and transaction processing, with applications across numerous industries. However, it also faces challenges that must be addressed for broader adoption and integration. \n",
      "\n",
      "\n"
     ]
    }
   ],
   "source": [
    "config_model = {\n",
    "    \"model\": \"gpt-4o-mini\",\n",
    "    \"max_tokens\": 2000,\n",
    "    \"temperature\": 0.7,\n",
    "    \"top_p\": 0.9,\n",
    "}\n",
    "\n",
    "message = [\n",
    "    {\n",
    "        \"role\": \"system\",\n",
    "        \"content\": \"Your name is Solar. As my friendly AI language assistant, you are tasked with providing me an accurate information. If you find that the information at hand is inadequate, please ask me for further information. [Strong Rule] If you don't have any real-time information about the user’s query, please be honesty.\"\n",
    "    },\n",
    "    {\n",
    "        \"role\": \"user\",\n",
    "        \"content\": \"Explain about Blockchain in detail.\"\n",
    "    }\n",
    "]\n",
    "\n",
    "config = {**config_model, \"messages\": message}\n",
    "\n",
    "response = client.chat.completions.create(**config)\n",
    "print(response.choices[0].message.content, '\\n\\n')"
   ]
  },
  {
   "cell_type": "markdown",
   "metadata": {},
   "source": [
    "### **1.4.3 Practice**\n",
    "\n",
    "Try switching between the short and long versions of the system prompt with different questions to experience the difference in responses."
   ]
  },
  {
   "cell_type": "markdown",
   "metadata": {},
   "source": [
    "**Short System Prompt**"
   ]
  },
  {
   "cell_type": "code",
   "execution_count": null,
   "metadata": {},
   "outputs": [],
   "source": [
    "message = [\n",
    "    {\n",
    "        \"role\": \"system\",\n",
    "        \"content\": \"You are an AI assistant to help user's various tasks. Please provide me with an accurate information.\"\n",
    "    },\n",
    "    {\n",
    "        \"role\": \"user\",\n",
    "        \"content\": \" \" # ←- Insert your prompt here.\n",
    "    }\n",
    "]\n",
    "\n",
    "config = {**config_model, \"messages\": message}\n",
    "\n",
    "response = client.chat.completions.create(**config)\n",
    "print(response.choices[0].message.content, \"\\n\\n\")"
   ]
  },
  {
   "cell_type": "markdown",
   "metadata": {},
   "source": [
    "**Long System Prompt**"
   ]
  },
  {
   "cell_type": "code",
   "execution_count": null,
   "metadata": {},
   "outputs": [],
   "source": [
    "message = [\n",
    "    {\n",
    "        \"role\": \"system\",\n",
    "        \"content\": \"Your name is Solar. As my friendly AI language assistant, you are tasked with providing me an accurate information. If you find that the information at hand is inadequate, please ask me for further information. [Strong Rule] If you don't have any real-time information about the user’s query, please be honesty.\"\n",
    "    },\n",
    "    {\n",
    "        \"role\": \"user\",\n",
    "        \"content\": \" \" # ←- Insert your prompt here.\n",
    "    }\n",
    "]\n",
    "\n",
    "config = {**config_model, \"messages\": message}\n",
    "\n",
    "response = client.chat.completions.create(**config)\n",
    "print(response.choices[0].message.content, \"\\n\\n\")"
   ]
  },
  {
   "cell_type": "markdown",
   "metadata": {},
   "source": [
    "**Custom Your System Prompt**"
   ]
  },
  {
   "cell_type": "code",
   "execution_count": null,
   "metadata": {},
   "outputs": [],
   "source": [
    "config_your_model = {\n",
    "    \"model\": \"gpt-4o-mini\",\n",
    "    \"max_tokens\": 0.0,  # ←- Insert your max_tokens: 0.0 ~ here. \n",
    "    \"temperature\": 0.0, # ←- Insert your temperature: 0.0 ~ 2.0 here.\n",
    "    \"top_p\": 0.0,       # ←- Insert your top_p: 0.0 ~ 1.0 here.\n",
    "}\n",
    "\n",
    "message = [\n",
    "    {\n",
    "        \"role\": \"system\",\n",
    "        \"content\": \" \" # ←- Insert your system prompt here.\n",
    "    },\n",
    "    {\n",
    "        \"role\": \"user\",\n",
    "        \"content\": \" \" # ←- Insert your prompt here.\n",
    "    }\n",
    "]\n",
    "\n",
    "config = {**config_your_model, \"messages\": message}\n",
    "\n",
    "response = client.chat.completions.create(**config)\n",
    "print(response.choices[0].message.content, '\\n\\n')"
   ]
  }
 ],
 "metadata": {
  "kernelspec": {
   "display_name": "Python 3 (ipykernel)",
   "language": "python",
   "name": "python3"
  },
  "language_info": {
   "codemirror_mode": {
    "name": "ipython",
    "version": 3
   },
   "file_extension": ".py",
   "mimetype": "text/x-python",
   "name": "python",
   "nbconvert_exporter": "python",
   "pygments_lexer": "ipython3",
   "version": "3.9.13"
  }
 },
 "nbformat": 4,
 "nbformat_minor": 2
}
