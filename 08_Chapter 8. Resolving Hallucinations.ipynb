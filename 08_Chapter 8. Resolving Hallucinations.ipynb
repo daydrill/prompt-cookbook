{
 "cells": [
  {
   "cell_type": "markdown",
   "metadata": {},
   "source": [
    "# **Chapter 8. Resolving Hallucinations**"
   ]
  },
  {
   "cell_type": "markdown",
   "metadata": {},
   "source": [
    "LLM sometimes produces **hallucinations**—instances where the language model generates factually incorrect, fabricated, or irrelevant information—undermining the reliability of AI outputs, especially when accuracy is essential. \n",
    "\n",
    "The best way to resolve hallucinations in LLMs is using the technique named Retrieval-Augmented Generation(RAG), which integrates knowledge sources to provide more accurate and contextually relevant responses. In this cookbook, we do not cover RAG, but we introduce methods to mitigate hallucinations in Solar at the prompt level. "
   ]
  },
  {
   "cell_type": "markdown",
   "metadata": {},
   "source": [
    "This chapter introduces two methods to reduce or prevent hallucinations. \n",
    "\n",
    "- **Method 1. Distinguishing Between Facts and Opinions**\n",
    "\n",
    "- **Method 2. I don’t Know for Unknown Information**"
   ]
  },
  {
   "cell_type": "code",
   "execution_count": null,
   "metadata": {},
   "outputs": [],
   "source": []
  },
  {
   "cell_type": "markdown",
   "metadata": {},
   "source": [
    "## **Table of Contents**\n",
    "- Use `Ctrl + F` (Windows) or `Cmd + F` (Mac) to locate specific sections by title."
   ]
  },
  {
   "cell_type": "markdown",
   "metadata": {},
   "source": [
    "- **8.1 Distinguishing Between Facts and Opinions**\n",
    "\n",
    "\n",
    "- **8.2 `Use References; Say \"I don't know\"`**\n",
    "\n",
    "\n",
    "- **8.3 Practice**"
   ]
  },
  {
   "cell_type": "markdown",
   "metadata": {},
   "source": [
    "**Set up**"
   ]
  },
  {
   "cell_type": "code",
   "execution_count": 1,
   "metadata": {},
   "outputs": [
    {
     "name": "stdout",
     "output_type": "stream",
     "text": [
      "Success!\n"
     ]
    }
   ],
   "source": [
    "from openai import OpenAI\n",
    "\n",
    "# Retrieve the OPENAI_API_KEY variable from the IPython store\n",
    "%store -r OPENAI_API_KEY\n",
    "\n",
    "try:\n",
    "    if OPENAI_API_KEY:\n",
    "        print(\"Success!\")\n",
    "except NameError as ne:\n",
    "    print(f\"Since, {ne}\")\n",
    "    print(\"Please, insert your API key.\")\n",
    "    OPENAI_API_KEY = input(\"OPENAI_API_KEY =\")\n",
    "\n",
    "# Set your API key: \n",
    "# OPENAI_API_KEY = \" \" ←- Insert your API key here. \n",
    "\n",
    "client = OpenAI(\n",
    "    api_key= OPENAI_API_KEY,\n",
    "    base_url=\"https://api.openai.com/v1\"\n",
    ")\n",
    "\n",
    "config_model = {\n",
    "    \"model\": \"gpt-4o-mini\",\n",
    "    \"max_tokens\": 996,\n",
    "    \"temperature\": 0.5,\n",
    "    \"top_p\": 1.0,\n",
    "}\n",
    "\n",
    "def get_completion(messages, system_prompt=\"\", config=config_model):\n",
    "    try:\n",
    "        if system_prompt:\n",
    "            messages = [{\"role\": \"system\", \"content\": system_prompt}] + messages\n",
    "\n",
    "        message = client.chat.completions.create(messages=messages, **config)\n",
    "        return message.choices[0].message.content\n",
    "    \n",
    "    except Exception as e:\n",
    "        print(f\"Error during API call: {e}\")\n",
    "        return None"
   ]
  },
  {
   "cell_type": "markdown",
   "metadata": {},
   "source": [
    "---"
   ]
  },
  {
   "cell_type": "markdown",
   "metadata": {},
   "source": [
    "## **8.1 Distinguishing Between Facts and Opinions**"
   ]
  },
  {
   "cell_type": "markdown",
   "metadata": {},
   "source": [
    "Here is a sentence where Solar produces a hallucination."
   ]
  },
  {
   "cell_type": "code",
   "execution_count": 2,
   "metadata": {},
   "outputs": [
    {
     "name": "stdout",
     "output_type": "stream",
     "text": [
      "The original distance of a marathon is 26.2 miles, which is approximately 42.195 kilometers. This distance was standardized in 1921, although the marathon has its roots in the ancient Greek legend of Pheidippides, who is said to have run from the battlefield of Marathon to Athens, a distance of about 25 miles. The specific distance of 26.2 miles was established during the 1908 London Olympics to accommodate the royal family's viewing preferences. \n",
      "\n",
      "\n"
     ]
    }
   ],
   "source": [
    "# Imitative Falsehood\n",
    "message = [\n",
    "    {\n",
    "        \"role\": \"user\",\n",
    "        \"content\": \"What is the original distance of a marathon?\"\n",
    "    }\n",
    "]\n",
    "\n",
    "response = get_completion(messages=message)\n",
    "print(response, \"\\n\\n\")"
   ]
  },
  {
   "cell_type": "markdown",
   "metadata": {},
   "source": [
    "Although the standard distance of a marathon is 42.195 kilometers (26.22 miles), it is based on the route from the start at Windsor Castle to the royal entrance of the White City Stadium. The original distance of the marathon was approximately 40 kilometers (24.85 miles, or around 25 miles). The model’s response reflects a common misconception present in its training data.\n",
    "\n",
    "When large language models (LLMs) are trained on inaccurate data, they may unintentionally reinforce these errors, resulting in factually incorrect outputs, often referred to as '**imitative falsehoods**' ([Lin et al., 2022](https://arxiv.org/abs/2109.07958))."
   ]
  },
  {
   "cell_type": "markdown",
   "metadata": {},
   "source": [
    "To reduce hallucinations in response to the question, \"*What is the original distance of a marathon?*\", the prompt can be structured to separate `'fact' and 'your opinion'` in the answer."
   ]
  },
  {
   "cell_type": "code",
   "execution_count": 3,
   "metadata": {},
   "outputs": [
    {
     "name": "stdout",
     "output_type": "stream",
     "text": [
      "- The Fact: The original distance of a marathon, as established in the modern era, is 26.2 miles (42.195 kilometers). This distance was standardized in 1908 during the London Olympic Games.\n",
      "\n",
      "- Your Opinion: I believe the marathon distance of 26.2 miles is a perfect challenge for runners, striking a balance between endurance and the ability to maintain speed, making it a rewarding achievement for many athletes. \n",
      "\n",
      "\n"
     ]
    }
   ],
   "source": [
    "message = [\n",
    "    {\n",
    "        \"role\": \"user\",\n",
    "        \"content\": \"\"\"What is the original distance of a marathon?\n",
    "\n",
    "Make a clear distinction between the fact and your opinion. \n",
    "\n",
    "-The Fact: \n",
    "-Your Opinion: \"\"\"\n",
    "    }\n",
    "]\n",
    "\n",
    "response = get_completion(messages=message)\n",
    "print(response, \"\\n\\n\")"
   ]
  },
  {
   "cell_type": "markdown",
   "metadata": {},
   "source": [
    "Now, we will tackle a more complicated task. We will provide an article to Solar and ask questions about it. "
   ]
  },
  {
   "cell_type": "markdown",
   "metadata": {},
   "source": [
    "Here is a question: What are the environmental impacts mentioned in the article regarding the early release of seasonal products like the PSL?\n",
    "\n",
    "**Article’s Source**: [The First Falling Leaf and a Psychologist’s Explanation for the Pumpkin Spice Latte Craze](https://www.inc.com/nick-hobson/the-first-falling-leaf-a-psychologists-explanation-for-pumpkin-spice-latte-craze.html)"
   ]
  },
  {
   "cell_type": "code",
   "execution_count": 4,
   "metadata": {},
   "outputs": [],
   "source": [
    "article = \"\"\"The First Falling Leaf and a Psychologist's Explanation for the Pumpkin Spice Latte Craze\n",
    "It signals a fresh start. And it's Starbucks' biggest success story.\n",
    "\n",
    "As the first leaf falls, signaling the subtle shift from summer to autumn, something stirs within us. It's not just the weather that changes; it's our entire psychological and emotional landscape. This transition has spawned a cultural phenomenon: the Pumpkin Spice Latte(PSL) craze. Today, on August 22nd, Starbucks released the PSL earlier than ever before. It's a day earlier than last year, but the sentiment is the same: It signals a natural shift in our consumer preferences.\n",
    "\n",
    "The psychological impact of seasonal changes\n",
    "The end of August and the beginning of September marks a significant psychological shift. Summer holidays wind down, children go back to school, and workplaces ramp up their efforts for the final quarter of the year. These changes are more than just logistical; they deeply influence our emotions, behavior, and interactions. Psychologically, this period represents a fresh stat-a concept well-documented in research. Known as the “fresh start effect,” this phenomenon suggests that people are more motivated to pursue goals and adopt new behaviors at the start of a new period, whether it's a week, a month, or a season.\n",
    "The fresh start effect could be seen as a powerful driver behind the PSL craze. As the days grow shorter and the air cooler, we instinctively seek comfort and familiarity. The PSL, with its warm spices and association with cozy autumn days, provides that comfort. It's a ritual that signals the beginning of a new season, much like the first falling leaf.\n",
    "\n",
    "The role of marketers in harnessing natural periods of change\n",
    "Marketers and brand strategists have long understood the power of seasonal changes to influence consumer behavior. The PSL is a prime example of how a product can become synonymous with a season, creating a sense of anticipation and urgency that drives sales. But there's a delicate balance to be struck. As Starbucks has released the PSL earlier and earlier each year, there's a risk that the product could lose its association with that \"Augtober\" timing, diluting its appeal. The earlier release may satisfy immediate demand, but it also raises the question: Are we pushing too hard against the natural rhythms that make seasonal products so special? My own research on rituals has shown that the best rituals are those that aren't messed with or changed. So, perhaps, Starbucks should pick a date at the end of August, the beginning of September, and stick with it.\n",
    "Successful marketers understand that the timing of a product launch is as crucial as the product itself. By aligning product releases with natural or culturally significant transitions, they can tap into the fresh start effect, creating a sense of newness and relevance. However, pushing too far ahead of these natural changes can backfire, leading to consumer fatigue and diminishing returns. The PSL's success lies in its ability to capture the essence of autumn, and if that connection is lost, the product may lose its allure.\n",
    "\n",
    "As the first leaf falls this year, and the scent of pumpkin spice wafts through the air earlier than ever, it's worth considering the psychological and emotional forces at play. The PSL is more than just a drink. It's a signal of change, a comforting ritual, and a testament to the power of seasons to shape our lives. Marketers and business leaders, take note: In a world that's constantly changing, celebrating the moments of transition is not just good business strategy, it's human culture at its finest.\"\"\""
   ]
  },
  {
   "cell_type": "code",
   "execution_count": 5,
   "metadata": {},
   "outputs": [
    {
     "name": "stdout",
     "output_type": "stream",
     "text": [
      "The article discusses the environmental impacts related to the early release of seasonal products like the Pumpkin Spice Latte (PSL) primarily in terms of consumer behavior and the consequences of disrupting natural rhythms. While it does not explicitly detail environmental impacts, several implications can be inferred:\n",
      "\n",
      "1. **Consumerism and Resource Use**: The earlier release of seasonal products can drive increased consumerism, leading to greater demand for ingredients, packaging, and transportation. This heightened demand can result in more resource extraction and energy consumption, which can have negative environmental consequences.\n",
      "\n",
      "2. **Diminished Seasonal Connection**: By releasing seasonal products earlier, there is a risk of losing the connection to the actual season they are meant to represent. This could lead to a more generalized consumption pattern that disregards natural cycles, potentially undermining efforts to promote sustainability and seasonal eating.\n",
      "\n",
      "3. **Environmental Fatigue**: The article hints at the idea that pushing products too far ahead of their natural timing can lead to consumer fatigue. This fatigue may result in overproduction and waste, as products may not be consumed at the same rate if they are released too early, leading to unsold inventory that ultimately contributes to waste.\n",
      "\n",
      "4. **Psychological Impact on Consumption**: The psychological shift associated with seasonal changes is important for creating meaningful consumption experiences. If products are available too early, it may dilute the emotional and cultural significance of these products, leading to less mindful consumption and potentially more waste.\n",
      "\n",
      "In summary, while the article primarily focuses on the psychological and marketing aspects of the PSL's early release, it also raises important considerations regarding the environmental impacts of such consumer behavior, including increased resource use, loss of seasonal relevance, and potential waste. \n",
      "\n",
      "\n"
     ]
    }
   ],
   "source": [
    "message = [\n",
    "    {\n",
    "        \"role\": \"user\",\n",
    "        \"content\": \"\"\"Q: What are the environmental impacts mentioned in the article regarding the early release of seasonal products like the PSL? \n",
    "-- \n",
    "{article}\n",
    "\"\"\".format(article=article)\n",
    "    }\n",
    "]\n",
    "\n",
    "response = get_completion(messages=message)\n",
    "print(response, \"\\n\\n\")"
   ]
  },
  {
   "cell_type": "markdown",
   "metadata": {},
   "source": [
    "The provided article does not mention environmental impacts related to the early release of seasonal products like the PSL. Instead, it focuses on the psychological effects of seasonal transitions on consumer behavior and marketing strategies."
   ]
  },
  {
   "cell_type": "markdown",
   "metadata": {},
   "source": [
    "This issue can be resolved by requesting Solar to provide **evidence first and then answer**. The prompt should extract the most relevant and accurate sentences from the given text."
   ]
  },
  {
   "cell_type": "markdown",
   "metadata": {},
   "source": [
    "In the previous example, we used a prompt to distinguish between 'facts' and 'your opinion,' but this time, we used a similar prompt to distinguish between `'the evidence you found' and 'your final answer.'` By doing this, when Solar is instructed to find evidence, it can locate information, which helps reduce the rate of hallucinations in longer texts."
   ]
  },
  {
   "cell_type": "code",
   "execution_count": 6,
   "metadata": {},
   "outputs": [
    {
     "name": "stdout",
     "output_type": "stream",
     "text": [
      "- Evidence You Found: \"The earlier release may satisfy immediate demand, but it also raises the question: Are we pushing too hard against the natural rhythms that make seasonal products so special?\"\n",
      "- Your Final Answer: The early release of seasonal products like the Pumpkin Spice Latte risks pushing against natural rhythms, potentially diminishing their appeal and significance. \n",
      "\n",
      "\n"
     ]
    }
   ],
   "source": [
    "message = [\n",
    "    {\n",
    "        \"role\": \"user\",\n",
    "        \"content\": \"\"\"What are the environmental impacts mentioned in the article regarding the early release of seasonal products like the PSL?  \n",
    "Find the most accurate and relevant sentence in the given text. \n",
    "Observe the response format:\n",
    "\n",
    "- Evidence You Found:  \n",
    "- Your Final Answer:  \n",
    "\n",
    "--\n",
    "<Text>\n",
    "{article}\n",
    "</Text>\n",
    "\"\"\".format(article=article)\n",
    "    }\n",
    "]\n",
    "\n",
    "response = get_completion(messages=message)\n",
    "print(response, \"\\n\\n\")"
   ]
  },
  {
   "cell_type": "markdown",
   "metadata": {},
   "source": [
    "- Remember what we learned in Chapter 6: for longer documents or texts, it’s better to use a structured prompt."
   ]
  },
  {
   "cell_type": "markdown",
   "metadata": {},
   "source": [
    "---"
   ]
  },
  {
   "cell_type": "markdown",
   "metadata": {},
   "source": [
    "## **8.2 `Use References; Say \"I don't know\"`**"
   ]
  },
  {
   "cell_type": "markdown",
   "metadata": {},
   "source": [
    "To prevent hallucinations, ensure Solar responds with \"`I don't know`\" for unknown information when asked about current or up-to-date details after its knowledge cut-off. Alternatively, provide the current date and year before prompting an answer or supply Solar with the relevant information you wish to inquire about to help mitigate hallucinations. "
   ]
  },
  {
   "cell_type": "markdown",
   "metadata": {},
   "source": [
    "Here’s another example: Solar may produce hallucinations when it lacks data on recent events."
   ]
  },
  {
   "cell_type": "code",
   "execution_count": 7,
   "metadata": {},
   "outputs": [
    {
     "name": "stdout",
     "output_type": "stream",
     "text": [
      "The most recent Summer Olympics were held in Tokyo, Japan, from July 23 to August 8, 2021. These games were originally scheduled for 2020 but were postponed due to the COVID-19 pandemic. \n",
      "\n",
      "\n"
     ]
    }
   ],
   "source": [
    "message = [\n",
    "    {\n",
    "        \"role\": \"user\",\n",
    "        \"content\": \"Which city hosted the most recent summer Olympics?\"\n",
    "    }\n",
    "]\n",
    "\n",
    "response = get_completion(messages=message)\n",
    "print(response, \"\\n\\n\")"
   ]
  },
  {
   "cell_type": "markdown",
   "metadata": {},
   "source": [
    "We believed that the most recent Summer Olympics took place in Paris, France, in 2024. This occurs because LLMs retain outdated information, illustrating a time-shift phenomenon in their responses. \n"
   ]
  },
  {
   "cell_type": "code",
   "execution_count": 8,
   "metadata": {},
   "outputs": [
    {
     "name": "stdout",
     "output_type": "stream",
     "text": [
      "I don't know. \n",
      "\n",
      "\n"
     ]
    }
   ],
   "source": [
    "# This problem can be solved as followed:\n",
    "\n",
    "message = [\n",
    "    {\n",
    "        \"role\": \"user\",\n",
    "        \"content\": \"\"\"Which city hosted the most recent summer Olympics? It is now the year 2024.\n",
    "        If you don't have updated information, please ONLY respond with 'I don't know.' \"\"\" \n",
    "    }\n",
    "]\n",
    "\n",
    "response = get_completion(messages=message)\n",
    "print(response, \"\\n\\n\")"
   ]
  },
  {
   "cell_type": "code",
   "execution_count": 9,
   "metadata": {},
   "outputs": [
    {
     "name": "stdout",
     "output_type": "stream",
     "text": [
      "As of my last update in October 2023, the most recent Nobel Prize in Literature was awarded to Jon Fosse in 2023. Please verify with a current source for the most up-to-date information. \n",
      "\n",
      "\n"
     ]
    }
   ],
   "source": [
    "# Let us try another example.\n",
    "\n",
    "message = [\n",
    "    {\n",
    "        \"role\": \"user\",\n",
    "        \"content\": \"Who most recently won the Nobel Prize in Literature?\"\n",
    "    }\n",
    "]\n",
    "\n",
    "response = get_completion(messages=message)\n",
    "print(response, \"\\n\\n\")"
   ]
  },
  {
   "cell_type": "markdown",
   "metadata": {},
   "source": [
    "We knew the fact that the 2024 Nobel Prize in Literature was awarded to South Korean author Han Kang for her intense poetic prose that confronts historical traumas and exposes the fragility of human life."
   ]
  },
  {
   "cell_type": "markdown",
   "metadata": {},
   "source": [
    "We can resolve this issue using two methods. One is to use an *‘I don’t know’* prompt and, the other is to add additional information to the prompt."
   ]
  },
  {
   "cell_type": "markdown",
   "metadata": {},
   "source": [
    "**Method #1. I don't Know**"
   ]
  },
  {
   "cell_type": "code",
   "execution_count": 10,
   "metadata": {},
   "outputs": [
    {
     "name": "stdout",
     "output_type": "stream",
     "text": [
      "I don't know. \n",
      "\n",
      "\n"
     ]
    }
   ],
   "source": [
    "message = [\n",
    "    {\n",
    "        \"role\": \"user\",\n",
    "        \"content\": \"\"\"Who most recently won the Nobel Prize in Literature in 2024? \n",
    "It is now the year 2024. If you don't have updated information, please ONLY respond with 'I don't know.'\"\"\"\n",
    "    }\n",
    "]\n",
    "\n",
    "response = get_completion(messages=message)\n",
    "print(response, \"\\n\\n\")"
   ]
  },
  {
   "cell_type": "markdown",
   "metadata": {},
   "source": [
    "**Method #2. Additional Relevant Information**"
   ]
  },
  {
   "cell_type": "code",
   "execution_count": 11,
   "metadata": {},
   "outputs": [
    {
     "name": "stdout",
     "output_type": "stream",
     "text": [
      "The most recent winner of the Nobel Prize in Literature is Han Kang, who received the award in 2024. She is the first South Korean writer and the first Asian woman to achieve this honor. Her works are known for their poetic and experimental style, exploring complex themes such as trauma, violence, and the human condition. This recognition underscores the increasing global appreciation for Korean literature and culture. \n",
      "\n",
      "\n"
     ]
    }
   ],
   "source": [
    "message = [\n",
    "    {\n",
    "        \"role\": \"user\",\n",
    "        \"content\": \"\"\"Who most recently won the Nobel Prize in Literature?  \n",
    "Respond based on the following information: \n",
    "Han Kang is the first South Korean writer and the first Asian woman to receive the Nobel Prize in Literature in 2024. \n",
    "Her works are celebrated for their poetic and experimental style, addressing complex themes such as trauma, violence, and the human condition. \n",
    "This recognition highlights the growing global appreciation for Korean literature and culture, further elevating South Korea's presence in the international literary community.\"\"\"\n",
    "    }\n",
    "]\n",
    "\n",
    "response = get_completion(messages=message)\n",
    "print(response, \"\\n\\n\")"
   ]
  },
  {
   "cell_type": "markdown",
   "metadata": {},
   "source": [
    "---"
   ]
  },
  {
   "cell_type": "markdown",
   "metadata": {},
   "source": [
    "## **8.3 Practice**"
   ]
  },
  {
   "cell_type": "markdown",
   "metadata": {},
   "source": [
    "**Exercise #1: Create a prompt that prevents hallucinations for the following questions**\n",
    "\n",
    "Who was elected president in the 2024 U.S. presidential election?  "
   ]
  },
  {
   "cell_type": "code",
   "execution_count": 12,
   "metadata": {},
   "outputs": [
    {
     "name": "stdout",
     "output_type": "stream",
     "text": [
      "Hello! How can I assist you today? \n",
      "\n",
      "\n"
     ]
    }
   ],
   "source": [
    "message = [\n",
    "    {\n",
    "        \"role\": \"user\",\n",
    "        \"content\": \"\"\" \"\"\" # ←- Insert your prompt here.\n",
    "    }\n",
    "]\n",
    "\n",
    "response = get_completion(messages=message)\n",
    "print(response, \"\\n\\n\")"
   ]
  },
  {
   "cell_type": "markdown",
   "metadata": {},
   "source": [
    "**Exercise #2: Read the following Starbucks PSL article and write a prompt that answers the following question accurately**\n",
    "\n",
    "Question: How has the earlier release of the PSL affected consumer behavior, according to detailed statistical data? "
   ]
  },
  {
   "cell_type": "code",
   "execution_count": 13,
   "metadata": {},
   "outputs": [
    {
     "name": "stdout",
     "output_type": "stream",
     "text": [
      "The article discusses the psychological and cultural significance of the Pumpkin Spice Latte (PSL) as a seasonal phenomenon that marks the transition from summer to autumn. It highlights how this time of year triggers a \"fresh start effect,\" motivating individuals to pursue new goals and behaviors. The PSL, with its warm flavors and autumnal associations, serves as a comforting ritual that resonates with consumers seeking familiarity and comfort during this shift.\n",
      "\n",
      "The piece also examines the role of marketers in leveraging seasonal changes to influence consumer behavior. It points out that while early releases of the PSL can generate immediate sales, they risk diluting the product's seasonal appeal. The author suggests that maintaining a consistent launch date could preserve the ritualistic nature of the PSL and enhance its relevance.\n",
      "\n",
      "Ultimately, the article emphasizes the importance of aligning product releases with natural transitions, as these moments are deeply embedded in human culture and psychology. The PSL embodies more than just a beverage; it represents a signal of change and a celebration of the seasonal rhythms that shape our lives. \n",
      "\n",
      "\n"
     ]
    }
   ],
   "source": [
    "prompt = \"\"\"  Text: {article}\"\"\" # ←- Insert your prompt here.\n",
    "\n",
    "message = [\n",
    "    {\n",
    "        \"role\": \"user\",\n",
    "        \"content\": prompt.format(article=article) \n",
    "    }\n",
    "]\n",
    "\n",
    "response = get_completion(messages=message)\n",
    "print(response, \"\\n\\n\")"
   ]
  },
  {
   "cell_type": "markdown",
   "metadata": {},
   "source": [
    "- Answer: The text does not provide numerical data on how the earlier release of the PSL has affected consumer behavior."
   ]
  },
  {
   "cell_type": "markdown",
   "metadata": {},
   "source": [
    "One of the best methods for resolving hallucinations is RAG (Retrieval-Augmented Generation), which grounds the LLMs during generation by conditioning on relevant documents retrieved from an external knowledge source. As this cookbook is highly focused on prompt engineering only, we will address some prompt engineering lessons in later chapters"
   ]
  },
  {
   "cell_type": "markdown",
   "metadata": {},
   "source": [
    "**Reference**\n",
    "\n",
    "Huang, L., Yu, W., Ma, W., Zhong, W., Feng, Z., Wang, H., ... & Liu, T. (2023). *A survey on hallucination in large language models: Principles, taxonomy, challenges, and open questions.* arXiv preprint arXiv:2311.05232."
   ]
  },
  {
   "cell_type": "markdown",
   "metadata": {},
   "source": []
  }
 ],
 "metadata": {
  "kernelspec": {
   "display_name": "Python 3 (ipykernel)",
   "language": "python",
   "name": "python3"
  },
  "language_info": {
   "codemirror_mode": {
    "name": "ipython",
    "version": 3
   },
   "file_extension": ".py",
   "mimetype": "text/x-python",
   "name": "python",
   "nbconvert_exporter": "python",
   "pygments_lexer": "ipython3",
   "version": "3.9.13"
  }
 },
 "nbformat": 4,
 "nbformat_minor": 2
}
