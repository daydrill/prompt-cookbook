{
 "cells": [
  {
   "cell_type": "markdown",
   "metadata": {},
   "source": [
    "# **Chapter 2. Direct and Clear Prompts**"
   ]
  },
  {
   "cell_type": "markdown",
   "metadata": {},
   "source": [
    "Solar gives you the best result when use a **direct and clear** prompt. \n",
    "\n",
    "When working with large language models, the way you phrase your prompts can greatly influence the quality of the responses you receive.\n",
    "In this chapter, we'll explore two key recipes to make your prompts more effective:"
   ]
  },
  {
   "cell_type": "markdown",
   "metadata": {},
   "source": [
    "## **Table of Contents**\n",
    "- Use `Ctrl + F` (Windows) or `Cmd + F` (Mac) to locate specific sections by title."
   ]
  },
  {
   "cell_type": "markdown",
   "metadata": {},
   "source": [
    "- **2.1 Using Action Verbs**\n",
    "\n",
    "    - 2.1.1 Effective Action Verbs for Prompt Clarity\n",
    "    \n",
    "    - 2.1.2 Examples\n",
    "    \n",
    "    - 2.1.3 Practice\n",
    "\n",
    "\n",
    "- **2.2 Simplifying Language**\n",
    "\n",
    "    - 2.2.1 Choosing Clear Language\n",
    "\n",
    "    - 2.2.2 Example\n",
    "\n",
    "    - 2.2.3 Practice"
   ]
  },
  {
   "cell_type": "markdown",
   "metadata": {},
   "source": [
    "**Set up**"
   ]
  },
  {
   "cell_type": "code",
   "execution_count": 1,
   "metadata": {},
   "outputs": [
    {
     "name": "stdout",
     "output_type": "stream",
     "text": [
      "Success!\n"
     ]
    }
   ],
   "source": [
    "from openai import OpenAI\n",
    "\n",
    "# Retrieve the OPENAI_API_KEY variable from the IPython store\n",
    "%store -r OPENAI_API_KEY\n",
    "\n",
    "try:\n",
    "    if OPENAI_API_KEY:\n",
    "        print(\"Success!\")\n",
    "except NameError as ne:\n",
    "    print(f\"Since, {ne}\")\n",
    "    print(\"Please, insert your API key.\")\n",
    "    OPENAI_API_KEY = input(\"OPENAI_API_KEY =\")\n",
    "\n",
    "# Set your API key: \n",
    "# OPENAI_API_KEY = \" \" ←- Insert your API key here. \n",
    "\n",
    "client = OpenAI(\n",
    "    api_key= OPENAI_API_KEY,\n",
    "    base_url=\"https://api.openai.com/v1\"\n",
    ")\n",
    "\n",
    "config_model = {\n",
    "    \"model\": \"gpt-4o-mini\",\n",
    "    \"max_tokens\": 2000,\n",
    "    \"temperature\": 0.7,\n",
    "    \"top_p\": 0.9,\n",
    "}\n",
    "\n",
    "def get_completion(messages, system_prompt=\"\", config=config_model):\n",
    "    try:\n",
    "        if system_prompt:\n",
    "            messages = [{\"role\": \"system\", \"content\": system_prompt}] + messages\n",
    "\n",
    "        message = client.chat.completions.create(messages=messages, **config)\n",
    "        return message.choices[0].message.content\n",
    "    \n",
    "    except Exception as e:\n",
    "        print(f\"Error during API call: {e}\")\n",
    "        return None"
   ]
  },
  {
   "cell_type": "markdown",
   "metadata": {},
   "source": [
    "---"
   ]
  },
  {
   "cell_type": "markdown",
   "metadata": {},
   "source": [
    "<a id=\"actionverb\"></a>\n",
    "## **2.1 Using Action Verbs**"
   ]
  },
  {
   "cell_type": "markdown",
   "metadata": {},
   "source": [
    "### **2.1.1 Effective Action Verbs for Prompt Clarity**"
   ]
  },
  {
   "cell_type": "markdown",
   "metadata": {},
   "source": [
    "`Action verbs` are the most powerful because they tell the model exactly what action you want it to perform. They make your prompts more direct and easier to follow. The following are common action verbs that can be used in your prompts:  \n",
    "\n",
    "> explain, describe, list, compare, summarize, define, calculate, translate, create, solve "
   ]
  },
  {
   "cell_type": "markdown",
   "metadata": {},
   "source": [
    "### **2.1.2 Examples**"
   ]
  },
  {
   "cell_type": "markdown",
   "metadata": {},
   "source": [
    "**Example #1: \"Explain\"**  \n",
    "\n",
    "- Vague Prompt:  \n",
    "\n",
    "    - \"I want to know about photosynthesis.”\n",
    "\n",
    "- Improved Prompt:  \n",
    "\n",
    "    - \"<font color=\"black\">**Explain**</font> the process of photosynthesis step by step.” \n",
    "\n",
    "**Comparing Results**  \n",
    "\n",
    "- Vague Prompt:\n",
    "\n",
    "    > \"Photosynthesis is the process by which green plants and some other organisms use sunlight to synthesize nutrients from carbon dioxide and water. In plants, photosynthesis typically occurs in the leaves, specifically in the chloroplasts which contain chlorophyll. The process consists of two main stages: the light-dependent reactions and the light-independent reactions, also known as the Calvin cycle. During photosynthesis, plants release oxygen as a byproduct, making it crucial for the survival of other organisms, including humans.\"\n",
    "\n",
    "- Improved Prompt:\n",
    "\n",
    "    > \"Of course! Photosynthesis is a process used by plants and other organisms to convert light energy, usually from the sun, into chemical energy. Here's a step-by-step explanation:\n",
    "    >\n",
    "    > 1. **Light Absorption**: Plants absorb light energy using a pigment called chlorophyll, which is found in chloroplasts within the plant cells.\n",
    "    > 2. **Water Splitting**: The absorbed light energy is used to split water molecules into hydrogen and oxygen atoms. This process is known as photolysis.\n",
    "    > 3. **Electron Transfer**: The hydrogen atoms released during photolysis are then used to generate ATP (adenosine triphosphate) and NADPH (nicotinamide adenine dinucleotide phosphate), which are energy-rich molecules.\n",
    "    > 4. **Carbon Fixation**: The ATP and NADPH produced in the previous step are used in the Calvin cycle, where carbon dioxide is fixed into a stable, organic molecule called glucose. This process is also known as carbon fixation.\n",
    "    > 5. **Glucose Utilization**: The glucose produced can be used by the plant for energy or stored for later use. Oxygen, a byproduct of photosynthesis, is released into the atmosphere.\n",
    "    > \n",
    "    > That's the basic process of photosynthesis!\"  \n",
    "    "
   ]
  },
  {
   "cell_type": "markdown",
   "metadata": {},
   "source": [
    "**Example #2: \"Describe\"**\n",
    "\n",
    "- Vague Prompt:  \n",
    "\n",
    "    - \"Tell me something about the Great Wall of China.\"\n",
    "    \n",
    "- Improved Prompt:  \n",
    "\n",
    "    - \"**Describe** the historical significance of the Great Wall of China.\"\n",
    "    \n",
    "**Comparing Results**  \n",
    "    \n",
    "- Vague Prompt: \n",
    "\n",
    "    > \"The Great Wall of China is a series of fortifications made of stone, brick, and other materials, built along the historical northern borders of China. It was primarily constructed during the Ming Dynasty (1368-1644) to protect against invasions from various nomadic groups. The wall stretches over 13,000 miles, making it the longest wall in the world. It is also one of the most famous landmarks in China and a UNESCO World Heritage Site. Would you like to know more about its history or other aspects?\"\n",
    "\n",
    "- Improved Prompt: \n",
    "\n",
    "    > \"The Great Wall of China is a monumental feat of engineering and a symbol of China's rich history. It was built over several centuries, starting around the 7th century BC, with the primary purpose of protecting Chinese states and empires from invasions and raids by various nomadic groups. The wall's historical significance lies in its role as a defensive barrier, a symbol of national unity, and a testament to the ingenuity and determination of the Chinese people. It also served as a means of controlling trade and immigration along the Silk Road. Today, the Great Wall is recognized as one of the most iconic landmarks in the world and a UNESCO World Heritage Site.\"  \n",
    "      "
   ]
  },
  {
   "cell_type": "markdown",
   "metadata": {},
   "source": [
    "### **2.1.3 Practice**"
   ]
  },
  {
   "cell_type": "markdown",
   "metadata": {},
   "source": [
    "Add action verbs to improve these prompts. "
   ]
  },
  {
   "cell_type": "markdown",
   "metadata": {},
   "source": [
    "**Exercise #1**\n",
    "\n",
    "- Vague Prompt:   \n",
    "\n",
    "    - \"I need help with fractions.\"  \n",
    "\n",
    "    *Response*:  \n",
    "    \n",
    "    - \"I'm here to help you with fractions! What do you need help with? Addition, subtraction, multiplication, division, or something else?\"  "
   ]
  },
  {
   "cell_type": "code",
   "execution_count": 4,
   "metadata": {},
   "outputs": [
    {
     "name": "stdout",
     "output_type": "stream",
     "text": [
      "Sure! Let's break down the concepts of fractions and the operations you can perform on them: simplifying, adding, subtracting, multiplying, and dividing.\n",
      "\n",
      "### 1. Understanding Fractions\n",
      "A fraction consists of two parts:\n",
      "- **Numerator**: The top number, which indicates how many parts you have.\n",
      "- **Denominator**: The bottom number, which indicates how many equal parts the whole is divided into.\n",
      "\n",
      "For example, in the fraction \\( \\frac{3}{4} \\), 3 is the numerator and 4 is the denominator.\n",
      "\n",
      "### 2. Simplifying Fractions\n",
      "To simplify a fraction, you divide both the numerator and the denominator by their greatest common divisor (GCD).\n",
      "\n",
      "**Example**: Simplify \\( \\frac{8}{12} \\).\n",
      "1. Find the GCD of 8 and 12. (The GCD is 4.)\n",
      "2. Divide both the numerator and denominator by the GCD:\n",
      "   - \\( \\frac{8 \\div 4}{12 \\div 4} = \\frac{2}{3} \\)\n",
      "\n",
      "So, \\( \\frac{8}{12} \\) simplifies to \\( \\frac{2}{3} \\).\n",
      "\n",
      "### 3. Adding Fractions\n",
      "To add fractions, they must have the same denominator (common denominator). If they don’t, you need to find a common denominator.\n",
      "\n",
      "**Example**: Add \\( \\frac{1}{4} + \\frac{1}{6} \\).\n",
      "1. Find the least common denominator (LCD) of 4 and 6, which is 12.\n",
      "2. Convert both fractions:\n",
      "   - \\( \\frac{1}{4} = \\frac{3}{12} \\) (multiply numerator and denominator by 3)\n",
      "   - \\( \\frac{1}{6} = \\frac{2}{12} \\) (multiply numerator and denominator by 2)\n",
      "3. Add the fractions:\n",
      "   - \\( \\frac{3}{12} + \\frac{2}{12} = \\frac{5}{12} \\)\n",
      "\n",
      "So, \\( \\frac{1}{4} + \\frac{1}{6} = \\frac{5}{12} \\).\n",
      "\n",
      "### 4. Subtracting Fractions\n",
      "Subtracting fractions follows the same process as adding.\n",
      "\n",
      "**Example**: Subtract \\( \\frac{3}{4} - \\frac{1}{6} \\).\n",
      "1. Find the LCD of 4 and 6, which is 12.\n",
      "2. Convert both fractions:\n",
      "   - \\( \\frac{3}{4} = \\frac{9}{12} \\) (multiply numerator and denominator by 3)\n",
      "   - \\( \\frac{1}{6} = \\frac{2}{12} \\) (multiply numerator and denominator by 2)\n",
      "3. Subtract the fractions:\n",
      "   - \\( \\frac{9}{12} - \\frac{2}{12} = \\frac{7}{12} \\)\n",
      "\n",
      "So, \\( \\frac{3}{4} - \\frac{1}{6} = \\frac{7}{12} \\).\n",
      "\n",
      "### 5. Multiplying Fractions\n",
      "To multiply fractions, simply multiply the numerators together and the denominators together.\n",
      "\n",
      "**Example**: Multiply \\( \\frac{2}{3} \\times \\frac{4}{5} \\).\n",
      "1. Multiply the numerators:\n",
      "   - \\( 2 \\times 4 = 8 \\)\n",
      "2. Multiply the denominators:\n",
      "   - \\( 3 \\times 5 = 15 \\)\n",
      "3. Write the result:\n",
      "   - \\( \\frac{8}{15} \\)\n",
      "\n",
      "So, \\( \\frac{2}{3} \\times \\frac{4}{5} = \\frac{8}{15} \\).\n",
      "\n",
      "### 6. Dividing Fractions\n",
      "To divide fractions, multiply by the reciprocal of the second fraction.\n",
      "\n",
      "**Example**: Divide \\( \\frac{3}{4} \\div \\frac{2}{5} \\).\n",
      "1. Find the reciprocal of \\( \\frac{2}{5} \\), which is \\( \\frac{5}{2} \\).\n",
      "2. Multiply \\( \\frac{3}{4} \\) by \\( \\frac{5}{2} \\):\n",
      "   - \\( \\frac{3}{4} \\times \\frac{5}{2} = \\frac{3 \\times 5}{4 \\times 2} = \\frac{15}{8} \\)\n",
      "\n",
      "So, \\( \\frac{3}{4} \\div \\frac{2}{5} = \\frac{15}{8} \\).\n",
      "\n",
      "### Summary\n",
      "- **Simplifying**: Divide numerator and denominator by GCD.\n",
      "- **Adding/Subtracting**: Find a common denominator, adjust fractions, then add or subtract.\n",
      "- **Multiplying**: Multiply numerators and denominators directly.\n",
      "- **Dividing**: Multiply by the reciprocal of the second fraction.\n",
      "\n",
      "If you have any specific questions or need further clarification, feel free to ask! \n",
      "\n",
      "\n"
     ]
    }
   ],
   "source": [
    "# Improved Prompt:\n",
    "answer = \"Please help me understand fractions, specifically how to simplify, add, subtract, multiply, or divide them. Can you explain step by step with examples?\" # ←- Insert your prompt here.\n",
    "\n",
    "message = [\n",
    "    {\n",
    "        \"role\": \"user\",\n",
    "        \"content\": answer\n",
    "    }\n",
    "]\n",
    "\n",
    "response = get_completion(messages=message)\n",
    "print(response, \"\\n\\n\")"
   ]
  },
  {
   "cell_type": "markdown",
   "metadata": {},
   "source": [
    "**Exercise #2**\n",
    "\n",
    "- Vague Prompt:  \n",
    "\n",
    "    - \"What is India’s Zomato?\"  \n",
    "    \n",
    "    *Response*:  \n",
    "\n",
    "    - \"India's Zomato is a popular food delivery and restaurant discovery platform. It's one of the leading online food ordering services in India, offering a wide range of cuisines from various restaurants and eateries. Zomato also provides restaurant reviews, menus, and contact information for users to explore and discover new food options.\"    "
   ]
  },
  {
   "cell_type": "code",
   "execution_count": null,
   "metadata": {},
   "outputs": [],
   "source": [
    "# Improved Prompt:\n",
    "answer = \" \" # ←- Insert your prompt here.\n",
    "\n",
    "message = [\n",
    "    {\n",
    "        \"role\": \"user\",\n",
    "        \"content\": answer\n",
    "    }\n",
    "]\n",
    "\n",
    "response = get_completion(messages=message)\n",
    "print(response, \"\\n\\n\")"
   ]
  },
  {
   "cell_type": "markdown",
   "metadata": {},
   "source": [
    "---"
   ]
  },
  {
   "cell_type": "markdown",
   "metadata": {},
   "source": [
    "<a id=\"simple\"></a>\n",
    "## **2.2 Simplifying Language**"
   ]
  },
  {
   "cell_type": "markdown",
   "metadata": {},
   "source": [
    "### **2.2.1 Choosing Clear Language**"
   ]
  },
  {
   "cell_type": "markdown",
   "metadata": {},
   "source": [
    "Simple and clear language helps the Solar understand your request without confusion. Avoid complex words and long sentences."
   ]
  },
  {
   "cell_type": "markdown",
   "metadata": {},
   "source": [
    "#### **Tips for Better Prompts**\n",
    "1. **간단하고 일상적인 언어 사용** \n",
    "2. **긴 문장은 짧은 문장으로 나누어** 각 문장은 하나의 아이디어를 명확히 표현\n",
    "3. **구체적으로 작성** 일반적인 개요를 요청하는 대신, 필요한 정보를 구체적으로 명시"
   ]
  },
  {
   "cell_type": "markdown",
   "metadata": {},
   "source": [
    "### **2.2.2 Example**"
   ]
  },
  {
   "cell_type": "markdown",
   "metadata": {},
   "source": [
    "- **Complex Prompt**\n",
    "\n",
    "    - System Prompt:  \n",
    "\n",
    "        - \"You are an AI assistant to help user's various tasks. Please provide me with an accurate information.\"   \n",
    "    \n",
    "    - User Prompt:  \n",
    "\n",
    "        - \"Explicate the intricate and interwoven ramifications inherent in the phenomenon of deforestation, probing into the layered ecological disruptions, the nuanced socio-economic ramifications for marginalized communities, and the cascading effects on global climatic equilibria and biogeochemical cycles. Consider the potential feedback loops generated by such anthropogenic activities and their implications for both micro and macro environmental paradigms.\"  \n",
    "\n",
    "    - Response:  \n",
    "    \n",
    "        > Deforestation, the large-scale removal of forests, has profound and interconnected consequences that span ecological, socio-economic, and global climatic domains.\n",
    "        > \n",
    "        > Ecologically, deforestation disrupts habitats, leading to biodiversity loss and species extinction. It also alters ecosystem functions, such as nutrient cycling, water filtration, and carbon sequestration. The removal of trees exposes soil to erosion, leading to sedimentation in waterways and reduced soil fertility.\n",
    "        > \n",
    "        > Socio-economically, deforestation often disproportionately affects marginalized communities who rely on forests for their livelihoods, such as indigenous peoples and rural farmers. The loss of forests can lead to food insecurity, displacement, and increased poverty.\n",
    "        > \n",
    "        > On a global scale, deforestation contributes significantly to climate change. Trees absorb carbon dioxide, a major greenhouse gas, and their removal releases this stored carbon back into the atmosphere. This exacerbates global warming, leading to a cascade of effects on biogeochemical cycles, such as altered precipitation patterns and increased frequency of extreme weather events.\n",
    "        > \n",
    "        > Feedback loops further complicate the issue. For instance, as global temperatures rise, forests become more susceptible to wildfires and pests, leading to further deforestation. Additionally, the loss of forests can lead to reduced rainfall, further stressing remaining forests and creating a vicious cycle.\n",
    "        > \n",
    "        > In summary, deforestation has far-reaching and interconnected consequences that span ecological, socio-economic, and global climatic domains. Its impacts are felt at both micro and macro levels, with feedback loops exacerbating the issue."
   ]
  },
  {
   "cell_type": "markdown",
   "metadata": {},
   "source": [
    "- **Simple Prompt**\n",
    "\n",
    "    - System Prompt:  \n",
    "\n",
    "        - \"You are an AI assistant to help user's various tasks. Please provide me with an accurate information.\"  \n",
    "    \n",
    "    - User Prompt:  \n",
    "\n",
    "        - \"Explain how cutting down trees affects nature, people, and the economy. What are the impacts on animals, the climate, and the lives of local communities?\"  \n",
    "\n",
    "    - Response:  \n",
    "    \n",
    "        > Cutting down trees, also known as deforestation, has significant impacts on nature, people, and the economy. Here are some of the key effects:\n",
    "        >\n",
    "        > 1. Nature: Deforestation leads to habitat loss for many animal species, causing a decline in biodiversity. It also disrupts ecosystems, affecting the balance of flora and fauna.\n",
    "        > 2. Climate: Trees absorb carbon dioxide, a greenhouse gas, and release oxygen. When forests are cut down, this natural carbon sink is lost, contributing to climate change. Additionally, burning trees releases stored carbon, further exacerbating the issue.\n",
    "        > 3. Animals: Deforestation threatens the survival of many animal species, particularly those that are endemic to specific forests. It also disrupts migration patterns and food chains.\n",
    "        > 4. People: Local communities often rely on forests for resources like food, medicine, and shelter. Deforestation can lead to the loss of these resources, impacting their livelihoods and well-being.\n",
    "        > 5. Economy: While deforestation can provide short-term economic benefits through activities like logging and agriculture, it can also have long-term negative impacts. These include reduced tourism, increased vulnerability to natural disasters, and the loss of potential future resources like medicinal plants.\n",
    "        > \n",
    "        > In summary, deforestation has far-reaching consequences for nature, people, and the economy. It's crucial to promote sustainable practices to minimize these impacts."
   ]
  },
  {
   "cell_type": "markdown",
   "metadata": {},
   "source": [
    " **Comparing Results**\n",
    "- Complex Prompt:   \n",
    "\n",
    "    > Long, verbose(장황한), and difficult for users to parse.  \n",
    "\n",
    "- Simple Prompt:  \n",
    "\n",
    "    > Straightforward and results in a clearer, more concise response.  "
   ]
  },
  {
   "cell_type": "markdown",
   "metadata": {},
   "source": [
    "### **2.2.3 Practice** \n",
    "\n",
    "Let’s change the complex sentences into simple and clear language."
   ]
  },
  {
   "cell_type": "markdown",
   "metadata": {},
   "source": [
    "**Exercise #1. Simplifying a Legal Request**   \n",
    "\n",
    "- Legal Request:  \n",
    "\n",
    "    > Kindly expound upon the multifaceted legal implications and fiduciary responsibilities that emerge from the contractual instrument under deliberation, taking into account the interplay of statutory provisions, case law precedents, and the overarching principles of contract law that govern such agreements.    "
   ]
  },
  {
   "cell_type": "code",
   "execution_count": null,
   "metadata": {},
   "outputs": [],
   "source": [
    "# Improved Prompt:\n",
    "answer = \" \" # ←- Insert your prompt here.\n",
    "\n",
    "message = [\n",
    "    {\n",
    "        \"role\": \"system\",\n",
    "        \"content\": \"You are an AI assistant to help user's various tasks. Please provide me with an accurate information.\"\n",
    "    },\n",
    "    {\n",
    "        \"role\": \"user\",\n",
    "        \"content\": answer\n",
    "    }\n",
    "]\n",
    "\n",
    "response = get_completion(messages=message)\n",
    "print(response, \"\\n\\n\")"
   ]
  },
  {
   "cell_type": "markdown",
   "metadata": {},
   "source": [
    "**Exercise #2. Breaking Down a Financial Inquiry**   \n",
    "\n",
    "- Financial Inquiry:  \n",
    "\n",
    "    > I would appreciate an exhaustive exegesis on the multifaceted investment paradigms extant within the contemporary fiscal milieu, elucidating the intricate risk-return trade-offs associated with each stratagem. Please incorporate a comprehensive evaluation of asset allocation theories, behavioral finance implications, and macroeconomic indicators that may influence these investment methodologies. Additionally, a comparative analysis of traditional versus alternative investments, alongside an assessment of their volatility profiles and liquidity constraints, would be invaluable.   "
   ]
  },
  {
   "cell_type": "code",
   "execution_count": null,
   "metadata": {},
   "outputs": [],
   "source": [
    "# Improved Prompt:\n",
    "answer = \" \" # ←- Insert your prompt here.\n",
    "\n",
    "message = [\n",
    "    {\n",
    "        \"role\": \"system\",\n",
    "        \"content\": \"You are an AI assistant to help user's various tasks. Please provide me with an accurate information.\"\n",
    "    },\n",
    "    {\n",
    "        \"role\": \"user\",\n",
    "        \"content\": answer\n",
    "    }\n",
    "]\n",
    "\n",
    "response = get_completion(messages=message)\n",
    "print(response, '\\n\\n')"
   ]
  }
 ],
 "metadata": {
  "kernelspec": {
   "display_name": "Python 3 (ipykernel)",
   "language": "python",
   "name": "python3"
  },
  "language_info": {
   "codemirror_mode": {
    "name": "ipython",
    "version": 3
   },
   "file_extension": ".py",
   "mimetype": "text/x-python",
   "name": "python",
   "nbconvert_exporter": "python",
   "pygments_lexer": "ipython3",
   "version": "3.9.13"
  }
 },
 "nbformat": 4,
 "nbformat_minor": 2
}
