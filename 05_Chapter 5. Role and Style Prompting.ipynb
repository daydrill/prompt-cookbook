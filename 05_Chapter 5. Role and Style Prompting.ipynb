{
 "cells": [
  {
   "cell_type": "markdown",
   "metadata": {},
   "source": [
    "# **Chapter 5. Role and Style Prompting**"
   ]
  },
  {
   "cell_type": "markdown",
   "metadata": {},
   "source": [
    "This chapter will explore two effective techniques for **prompt design**: <font color=\"red\">Role prompting</font> and <font color=\"red\"> Style prompting</font>, both of which are particularly suitable for our Solar."
   ]
  },
  {
   "cell_type": "markdown",
   "metadata": {},
   "source": [
    "## **Table of Contents**\n",
    "- Use `Ctrl + F` (Windows) or `Cmd + F` (Mac) to locate specific sections by title."
   ]
  },
  {
   "cell_type": "markdown",
   "metadata": {},
   "source": [
    "- **5.1 Assigning Roles to the Model**    \n",
    "\n",
    "    - 5.1.1 Role prompting  \n",
    "    \n",
    "        - (1) Speaker-Specific Prompting  \n",
    "\n",
    "        - (2) Audience-Specific Prompting  \n",
    "  \n",
    "  \n",
    "    - 5.1.2 Style Prompting  \n",
    "\n",
    "    - 5.1.3 Examples  \n",
    "  \n",
    "  \n",
    "- **5.2 Maintaining Consistency in Response**   \n",
    "\n",
    "    - 5.2.1 Define Clear Guidelines for Expected Response Formats  \n",
    "\n",
    "        - (1) Examples   \n",
    "\n",
    "            \n",
    "  \n",
    "  \n",
    "    - 5.2.2 Use Consistent Terminology throughout Prompts  \n",
    "\n",
    "    - 5.2.3 Practice  \n",
    "\n"
   ]
  },
  {
   "cell_type": "code",
   "execution_count": 1,
   "metadata": {},
   "outputs": [
    {
     "name": "stdout",
     "output_type": "stream",
     "text": [
      "Success!\n"
     ]
    }
   ],
   "source": [
    "from openai import OpenAI\n",
    "\n",
    "# Retrieve the OPENAI_API_KEY variable from the IPython store\n",
    "%store -r OPENAI_API_KEY\n",
    "\n",
    "try:\n",
    "    if OPENAI_API_KEY:\n",
    "        print(\"Success!\")\n",
    "except NameError as ne:\n",
    "    print(f\"Since, {ne}\")\n",
    "    print(\"Please, insert your API key.\")\n",
    "    OPENAI_API_KEY = input(\"OPENAI_API_KEY =\")\n",
    "\n",
    "# Set your API key: \n",
    "# OPENAI_API_KEY = \" \" ←- Insert your API key here. \n",
    "\n",
    "client = OpenAI(\n",
    "    api_key= OPENAI_API_KEY,\n",
    "    base_url=\"https://api.openai.com/v1\"\n",
    ")\n",
    "\n",
    "config_model = {\n",
    "    \"model\": \"gpt-4o-mini\",\n",
    "    \"max_tokens\": 2000,\n",
    "    \"temperature\": 0.7,\n",
    "    \"top_p\": 0.9,\n",
    "}\n",
    "\n",
    "def get_completion(messages, system_prompt=\"\", config=config_model):\n",
    "    try:\n",
    "        if system_prompt:\n",
    "            messages = [{\"role\": \"system\", \"content\": system_prompt}] + messages\n",
    "\n",
    "        message = client.chat.completions.create(messages=messages, **config)\n",
    "        return message.choices[0].message.content\n",
    "    \n",
    "    except Exception as e:\n",
    "        print(f\"Error during API call: {e}\")\n",
    "        return None"
   ]
  },
  {
   "cell_type": "markdown",
   "metadata": {},
   "source": [
    "**Set up**"
   ]
  },
  {
   "cell_type": "markdown",
   "metadata": {},
   "source": [
    "---"
   ]
  },
  {
   "cell_type": "markdown",
   "metadata": {},
   "source": [
    "<a id=\"sec1\"></a>\n",
    "## **5.1 Assigning Roles to the Model**"
   ]
  },
  {
   "cell_type": "markdown",
   "metadata": {},
   "source": [
    "### **5.1.1 Role Prompting**"
   ]
  },
  {
   "cell_type": "markdown",
   "metadata": {},
   "source": [
    "Also referred to as **persona prompting**, this technique assigns a specific role to the large language model within the prompt. This approach can lead to more desirable outputs for open-ended tasks and, in some instances, enhance accuracy on benchmarks. \n",
    "\n",
    "We will overview two types of role prompting:\n",
    "\n",
    "(1) `Speaker-Specific Prompt`: A prompt that assigns the role to the LLM.  \n",
    "\n",
    "(2) `Audience-Specific Prompt:` A prompt that specifies the audience of the conversation (e.g., whom you are talking to).  "
   ]
  },
  {
   "cell_type": "markdown",
   "metadata": {},
   "source": [
    "#### **(1) Speaker-Specific Prompt**"
   ]
  },
  {
   "cell_type": "code",
   "execution_count": 7,
   "metadata": {},
   "outputs": [
    {
     "name": "stdout",
     "output_type": "stream",
     "text": [
      "The case you described raises important legal issues surrounding the Good Samaritan law and the responsibilities of individuals who attempt to assist others in emergency situations. Here's an interpretation of the case based on the details provided:\n",
      "\n",
      "### Key Legal Concepts\n",
      "\n",
      "1. **Good Samaritan Law**: Generally, Good Samaritan laws are designed to protect individuals from legal liability when they voluntarily provide assistance to those who are injured or in peril, as long as their actions are reasonable and intended to help. These laws encourage bystanders to assist others in emergencies without fear of being sued for unintentional harm.\n",
      "\n",
      "2. **Negligence**: In this context, the concept of negligence becomes crucial. For Van Horn to successfully claim damages against Toti, she would need to establish that Toti's actions during the rescue were negligent—that is, that they fell below the standard of care expected in such a situation and directly caused her injuries.\n",
      "\n",
      "### Case Analysis\n",
      "\n",
      "- **Facts of the Case**: The incident occurred when Toti, upon witnessing the accident involving Van Horn, attempted to rescue her from a vehicle that was presumably in a dangerous condition. During this rescue effort, Van Horn sustained significant injuries that led to her paralysis.\n",
      "\n",
      "- **Supreme Court Ruling**: The California Supreme Court's decision (4-3) indicates a split in opinion among the justices regarding Toti's liability. The ruling acknowledges Toti's responsibility, suggesting that the court found merit in Van Horn's claim that Toti's actions, while well-intentioned, were conducted in a manner that constituted negligence. This could imply that Toti's method of rescue was unsafe or inappropriate given the circumstances.\n",
      "\n",
      "### Implications of the Ruling\n",
      "\n",
      "- **Impact on Good Samaritan Laws**: This ruling may have significant implications for the interpretation and application of Good Samaritan laws in California. It suggests that while these laws exist to protect rescuers, there may be limits to that protection when the rescuer's actions are deemed negligent or reckless.\n",
      "\n",
      "- **Encouragement vs. Deterrence**: The decision raises questions about whether it will deter bystanders from intervening in emergencies due to fear of liability. If potential rescuers believe they could be held liable for injuries resulting from their actions, they may hesitate to assist, counteracting the purpose of Good Samaritan laws.\n",
      "\n",
      "- **Legal Precedents**: This case could set a precedent for future cases involving Good Samaritan actions, particularly in California. Courts may need to further clarify the boundaries of protection offered by these laws and what constitutes reasonable versus negligent conduct in emergency situations.\n",
      "\n",
      "### Conclusion\n",
      "\n",
      "In summary, the California Supreme Court's ruling in the case of Van Horn v. Toti illustrates the complexities of the Good Samaritan law, particularly in balancing the encouragement of altruistic behavior with the need to hold individuals accountable for negligent actions. This case serves as an important reminder that while helping others is commendable, the manner in which assistance is rendered can have significant legal ramifications. \n",
      "\n",
      "\n"
     ]
    }
   ],
   "source": [
    "\n",
    "message = [\n",
    "    {\n",
    "        \"role\": \"user\",\n",
    "        \"content\": \"\"\"You are an expert lawyer.\n",
    "Please interpret the case regarding the Good Samaritan law from the following. \n",
    "case: \n",
    "The California Supreme Court recently made an interesting ruling related to the \"Good Samaritan law.\" This ruling concerns the legal dispute between Alexandra Van Horn and Lisa Toti. Here’s what happened: In 2004, Alexandra Van Horn and Lisa Toti were heading to a banquet with colleagues from the same factory. However, the car that Van Horn was in got into an accident, and Lisa Toti, who was in another car, pulled Van Horn out of her vehicle, which was stuck at the accident scene. Unfortunately, during this rescue, Van Horn sustained injuries that left her unable to use her lower body. Subsequently, Van Horn filed a lawsuit against Toti, claiming that she was paralyzed due to Toti's actions while trying to rescue her. The California Supreme Court ruled in a 4-3 decision, acknowledging Toti's responsibility.\"\"\"\n",
    "    }\n",
    "]\n",
    "\n",
    "response = get_completion(messages=message)\n",
    "print(response, \"\\n\\n\")"
   ]
  },
  {
   "cell_type": "code",
   "execution_count": 4,
   "metadata": {},
   "outputs": [
    {
     "name": "stdout",
     "output_type": "stream",
     "text": [
      "The case you provided involves an important interpretation of the Good Samaritan law in California, which generally protects individuals from liability when they voluntarily assist someone in peril, provided their actions are reasonable and intended to help.\n",
      "\n",
      "In this scenario, Alexandra Van Horn was involved in a car accident and was rescued by Lisa Toti, who was in a separate vehicle. Unfortunately, during the rescue, Van Horn suffered further injuries that resulted in paralysis. Van Horn subsequently sued Toti, arguing that Toti's actions during the rescue were negligent and led to her injuries.\n",
      "\n",
      "The California Supreme Court's ruling in favor of Van Horn, with a 4-3 decision, indicates that the court found Toti legally responsible for the injuries sustained by Van Horn during the rescue attempt. This ruling suggests that the court determined Toti's actions did not meet the standard of care expected under the Good Samaritan law, possibly implying that Toti's rescue efforts were reckless or inappropriate given the circumstances.\n",
      "\n",
      "This case highlights a critical aspect of Good Samaritan laws: while they are designed to encourage individuals to assist others in emergencies without fear of legal repercussions, there are limits to this protection. If a rescuer's actions are deemed negligent or cause harm, they may still be held liable, as was the case here. The ruling underscores the delicate balance between encouraging altruistic behavior and ensuring that such actions do not lead to further harm. \n",
      "\n",
      "\n"
     ]
    }
   ],
   "source": [
    "# Without any specific role\n",
    "message = [\n",
    "    {\n",
    "        \"role\": \"user\",\n",
    "        \"content\": \"\"\"Please interpret the case regarding the Good Samaritan law from the following. \n",
    "case: \n",
    "The California Supreme Court recently made an interesting ruling related to the \"Good Samaritan law.\" This ruling concerns the legal dispute between Alexandra Van Horn and Lisa Toti. Here’s what happened: In 2004, Alexandra Van Horn and Lisa Toti were heading to a banquet with colleagues from the same factory. However, the car that Van Horn was in got into an accident, and Lisa Toti, who was in another car, pulled Van Horn out of her vehicle, which was stuck at the accident scene. Unfortunately, during this rescue, Van Horn sustained injuries that left her unable to use her lower body. Subsequently, Van Horn filed a lawsuit against Toti, claiming that she was paralyzed due to Toti's actions while trying to rescue her. The California Supreme Court ruled in a 4-3 decision, acknowledging Toti's responsibility.\"\"\"\n",
    "    }\n",
    "]\n",
    "\n",
    "response = get_completion(messages=message)\n",
    "print(response, \"\\n\\n\")"
   ]
  },
  {
   "cell_type": "markdown",
   "metadata": {},
   "source": [
    "#### **(2) Audience-Specific Prompt**"
   ]
  },
  {
   "cell_type": "markdown",
   "metadata": {},
   "source": [
    "Please compare how a speaker-specific prompt and its results differ. "
   ]
  },
  {
   "cell_type": "code",
   "execution_count": 5,
   "metadata": {},
   "outputs": [
    {
     "name": "stdout",
     "output_type": "stream",
     "text": [
      "Okay! So, let's break this down in a way that's easy to understand.\n",
      "\n",
      "Imagine you and your friend are at a picnic, and suddenly your friend gets hurt and can't move. You want to help them, so you try to pull them to safety. But while you're helping, you accidentally hurt them even more.\n",
      "\n",
      "Now, in California, there is a special rule called the \"Good Samaritan law.\" This rule is meant to protect people who try to help others in emergencies. It says that if someone is trying to help someone else and they accidentally cause more harm, they usually won't get in trouble for it.\n",
      "\n",
      "In this case, there were two people named Alexandra and Lisa. They were both going to a party when Alexandra's car got into an accident. Lisa saw the accident and wanted to help Alexandra, so she pulled her out of the car. But when Lisa did that, Alexandra got hurt really badly and couldn't move her legs anymore.\n",
      "\n",
      "Alexandra was upset and said that Lisa's actions caused her to be hurt. So, she decided to take Lisa to court to say that Lisa was responsible for her injuries.\n",
      "\n",
      "The California Supreme Court, which is a very important court, made a decision about this situation. They said that even though Lisa was trying to help, she still had some responsibility for what happened to Alexandra. It was a close decision, with four judges saying one thing and three judges saying another.\n",
      "\n",
      "So, this case is about what happens when someone tries to help another person but accidentally causes more harm. It's a complicated situation, but it shows that sometimes, even good intentions can lead to tough problems. \n",
      "\n",
      "\n"
     ]
    }
   ],
   "source": [
    "message = [\n",
    "    {\n",
    "        \"role\": \"user\",\n",
    "        \"content\": \"\"\"You are currently talking with an elementary school student.\n",
    "Please interpret the case regarding the Good Samaritan law from the following.\n",
    "case: \n",
    "The California Supreme Court recently made an interesting ruling related to the \"Good Samaritan law.\" This ruling concerns the legal dispute between Alexandra Van Horn and Lisa Toti. Here’s what happened: In 2004, Alexandra Van Horn and Lisa Toti were heading to a banquet with colleagues from the same factory. However, the car that Van Horn was in got into an accident, and Lisa Toti, who was in another car, pulled Van Horn out of her vehicle, which was stuck at the accident scene. Unfortunately, during this rescue, Van Horn sustained injuries that left her unable to use her lower body. Subsequently, Van Horn filed a lawsuit against Toti, claiming that she was paralyzed due to Toti's actions while trying to rescue her. The California Supreme Court ruled in a 4-3 decision, acknowledging Toti's responsibility.\"\"\"\n",
    "    }\n",
    "]\n",
    "\n",
    "response = get_completion(messages=message)\n",
    "print(response, \"\\n\\n\")"
   ]
  },
  {
   "cell_type": "markdown",
   "metadata": {},
   "source": [
    "### **5.1.2 Style Prompting**"
   ]
  },
  {
   "cell_type": "markdown",
   "metadata": {},
   "source": [
    "This technique entails defining the **desired style, tone, or genre** within the prompt to influence the output of a large language model. A comparable outcome can often be achieved through role prompting. "
   ]
  },
  {
   "cell_type": "markdown",
   "metadata": {},
   "source": [
    "**Compare the Structural Prompts**\n",
    "\n",
    "These two prompts show noticeable distinctions."
   ]
  },
  {
   "cell_type": "code",
   "execution_count": 7,
   "metadata": {},
   "outputs": [
    {
     "name": "stdout",
     "output_type": "stream",
     "text": [
      "BTS의 팬들은 하루 종일 춤추고 노래하는 로봇 같아요! \n",
      "\n",
      "\n"
     ]
    }
   ],
   "source": [
    "message = [\n",
    "    {\n",
    "        \"role\": \"user\",\n",
    "        \"content\": \"Write a ten-word sentence about BTS, the Korean singers, in a humorous tone. 한국어로 작성해줘\"\n",
    "    }\n",
    "]\n",
    "\n",
    "response = get_completion(messages=message)\n",
    "print(response, \"\\n\\n\")"
   ]
  },
  {
   "cell_type": "code",
   "execution_count": 8,
   "metadata": {},
   "outputs": [
    {
     "name": "stdout",
     "output_type": "stream",
     "text": [
      "BTS는 전 세계 팬들에게 사랑받는 한국의 인기 아이돌 그룹입니다. \n",
      "\n",
      "\n"
     ]
    }
   ],
   "source": [
    "message = [\n",
    "    {\n",
    "        \"role\": \"user\",\n",
    "        \"content\": \"Write a ten-word sentence about BTS, the Korean singers. 한국어로 작성해줘\"\n",
    "    }\n",
    "]\n",
    "\n",
    "response = get_completion(messages=message)\n",
    "print(response, \"\\n\\n\")"
   ]
  },
  {
   "cell_type": "markdown",
   "metadata": {},
   "source": [
    "- **Stylistic Constraints**\n",
    "\n",
    "For style prompting, we can also use `stylistic constraints`, which exist in all languages. This often consists of an adjective placed before a document type, such as in the examples:  \n",
    "\n",
    "- \"write a formal email to my boss.\"   \n",
    "\n",
    "- \"write a funny pickup line.\"\n",
    "\n",
    "Here are some stylistic constraint examples:  "
   ]
  },
  {
   "cell_type": "markdown",
   "metadata": {},
   "source": [
    "> writing style, tone, mood, characterization, pacing, plot and genre.  \n",
    "  \n",
    "- writing style: functional, flowery, candid, prosaic, ornate, poetic  \n",
    "\n",
    "- tone: dramatic, humorous, sad, optimistic, formal, informal, assertive, aggressive  \n",
    "\n",
    "- mood: angry, fearful, happy, sad  \n",
    "\n",
    "- pacing : fast and slow paces  "
   ]
  },
  {
   "cell_type": "markdown",
   "metadata": {},
   "source": [
    "### **5.1.3 Examples**"
   ]
  },
  {
   "cell_type": "markdown",
   "metadata": {},
   "source": [
    "**Example #1: Content Creation**  \n",
    "\n",
    "Compare the prompts: <ins>flowery(화려한)</ins> vs <ins>functional(기능적인)</ins>"
   ]
  },
  {
   "attachments": {
    "image.png": {
     "image/png": "[encoded data removed]"
    }
   },
   "cell_type": "markdown",
   "metadata": {},
   "source": [
    "![image.png](attachment:image.png)"
   ]
  },
  {
   "cell_type": "code",
   "execution_count": 9,
   "metadata": {},
   "outputs": [
    {
     "name": "stdout",
     "output_type": "stream",
     "text": [
      "As the first light of dawn unfurls across the horizon, the world awakens from its slumber, bathed in a delicate wash of pastel hues. The sun, a molten orb of gold, begins its slow ascent, casting a warm embrace over the earth. Gentle whispers of lavender and blush paint the sky, merging with the deep indigo of night, as if the heavens themselves are blushing at the beauty of the moment.\n",
      "\n",
      "Birds, those jubilant heralds of the morn, break into song, their melodies weaving through the crisp air like silken threads of joy. The dew-kissed grass glistens like a field of diamonds, each droplet reflecting the burgeoning light, while flowers, timid yet eager, unfurl their petals to greet the day, basking in the tender glow of the sun’s caress.\n",
      "\n",
      "In this sacred hour, shadows retreat, and the world is infused with a sense of hope and renewal. The gentle breeze carries with it the promise of possibilities yet to unfold, as nature stretches and yawns, shaking off the remnants of night. Each heartbeat of the earth resonates with the rhythm of life, echoing the splendor of this fleeting moment—a symphony of color and sound, a celebration of existence, a reminder that with each sunrise comes a new beginning. \n",
      "\n",
      "\n"
     ]
    }
   ],
   "source": [
    "message = [\n",
    "    {\n",
    "        \"role\": \"user\",\n",
    "        \"content\": \"Write a flowery passage about sunrise.\"\n",
    "    }\n",
    "]\n",
    "\n",
    "response = get_completion(messages=message)\n",
    "print(response, \"\\n\\n\")"
   ]
  },
  {
   "cell_type": "code",
   "execution_count": null,
   "metadata": {},
   "outputs": [
    {
     "name": "stdout",
     "output_type": "stream",
     "text": [
      "As the world begins to stir from its slumber, a subtle change takes place in the sky. The darkness that once enveloped the landscape begins to recede, giving way to the soft, pastel hues of dawn. The first rays of the sun peek over the horizon, casting a warm, golden glow that slowly creeps across the land. The air is crisp and fresh, filled with the promise of a new day. The trees and plants seem to come alive, their leaves and branches reaching up towards the light, as if in silent gratitude for the sun's return. The sunrise is a beautiful reminder of the constant cycle of life, a symbol of hope and renewal. \n",
      "\n",
      "\n"
     ]
    }
   ],
   "source": [
    "message = [\n",
    "    {\n",
    "        \"role\": \"user\",\n",
    "        \"content\": \"Write a functional passage about sunrise.\"\n",
    "    }\n",
    "]\n",
    "\n",
    "response = get_completion(messages=message)\n",
    "print(response, \"\\n\\n\")"
   ]
  },
  {
   "cell_type": "markdown",
   "metadata": {},
   "source": [
    "**Example #2: Business Email**"
   ]
  },
  {
   "cell_type": "code",
   "execution_count": 10,
   "metadata": {},
   "outputs": [
    {
     "name": "stdout",
     "output_type": "stream",
     "text": [
      "Subject: Thank You for Your Outstanding Efforts on [Project Name]\n",
      "\n",
      "Dear Team,\n",
      "\n",
      "I hope this message finds you well.\n",
      "\n",
      "As we conclude our recent project, I want to take a moment to express my heartfelt gratitude to each one of you for your exceptional efforts and dedication. Your hard work, creativity, and collaboration have played a pivotal role in achieving our objectives, and I am truly proud to be part of such a talented team.\n",
      "\n",
      "Throughout the project, I witnessed remarkable teamwork, innovative ideas, and unwavering commitment. Each of you contributed unique skills and perspectives that enriched our approach and ultimately led to our success. The positive feedback we have received from stakeholders is a testament to your hard work and professionalism.\n",
      "\n",
      "Looking ahead, we will be implementing the next steps to ensure that the momentum we’ve built continues. In our upcoming team meeting on [date], we will discuss how we can leverage our successes and address any challenges that may arise. Additionally, I encourage you to share any insights or feedback you have from this project, as it will help us refine our strategies for future initiatives.\n",
      "\n",
      "Once again, thank you for your exceptional contributions. I am excited about what we can achieve together in the future.\n",
      "\n",
      "Best regards,\n",
      "\n",
      "[Your Name]  \n",
      "[Your Job Title]  \n",
      "[Your Company]  \n",
      "[Your Contact Information]   \n",
      "\n",
      "\n"
     ]
    }
   ],
   "source": [
    "message = [\n",
    "    {\n",
    "        \"role\": \"user\",\n",
    "        \"content\": \"write a formal and well-structured buisness email to my employees. As the team leader of the marketing team, I want to send a thank-you email to my team members after the project's completion. In this email, I want to emphasize the team's efforts and achievements, and include a brief overview of the next steps.\"\n",
    "    }\n",
    "]\n",
    "\n",
    "response = get_completion(messages=message)\n",
    "print(response, \"\\n\\n\")"
   ]
  },
  {
   "cell_type": "markdown",
   "metadata": {},
   "source": [
    "**References** \n",
    "\n",
    "Zheng, M., Pei, J., Logeswaran, L., Lee, M., & Jurgens, D. (2024, November). *When” A Helpful Assistant” Is Not Really Helpful: Personas in System Prompts Do Not Improve Performances of Large Language Models.* In Findings of the Association for Computational Linguistics: EMNLP 2024 (pp. 15126-15154).\n",
    "\n",
    "Lu, A., Zhang, H., Zhang, Y., Wang, X., & Yang, D. (2023). *Bounding the capabilities of large language models in open text generation with prompt constraints.* arXiv preprint arXiv:2302.09185."
   ]
  },
  {
   "cell_type": "markdown",
   "metadata": {},
   "source": [
    "---"
   ]
  },
  {
   "cell_type": "markdown",
   "metadata": {},
   "source": [
    "<a id=\"sec2\"></a>\n",
    "## **5.2 Maintaining Consistency in Response**"
   ]
  },
  {
   "cell_type": "markdown",
   "metadata": {},
   "source": [
    "**Constraints**\n",
    "\n",
    "- Define clear guidelines for expected **response formats**.  \n",
    "\n",
    "- Use **consistent terminology** throughout prompts to avoid confusion.  \n",
    "\n",
    "Constraints are particularly effective in *zero-shot prompt engineering* techniques."
   ]
  },
  {
   "cell_type": "markdown",
   "metadata": {},
   "source": [
    "### **5.2.1 Define Clear Guidelines for Expected Response Formats**\n",
    "\n",
    "- Specify the structure and components of the expected output.  \n",
    "\n",
    "- Examples of response formats:  \n",
    "\n",
    "    - **List Format**: “Provide a list of five benefits of regular exercise.”  \n",
    "\n",
    "    - **Paragraph Format**: “Explain the importance of renewable energy in a single paragraph.”  \n",
    "\n",
    "    - **Dialogue Format**: “Write a conversation between two characters (Name A and Name B) discussing their weekend plans. Include three multi-turn exchanges.”  "
   ]
  },
  {
   "cell_type": "markdown",
   "metadata": {},
   "source": [
    "#### **(1) Examples**"
   ]
  },
  {
   "cell_type": "markdown",
   "metadata": {},
   "source": [
    "**Example #1: List Format**"
   ]
  },
  {
   "cell_type": "code",
   "execution_count": 8,
   "metadata": {},
   "outputs": [
    {
     "name": "stdout",
     "output_type": "stream",
     "text": [
      "Regular exercise offers numerous benefits for both physical and mental health. Here are five key benefits:\n",
      "\n",
      "1. **Improved Physical Health**: Regular exercise strengthens the heart, improves circulation, and enhances lung capacity. It also helps maintain a healthy weight and reduces the risk of chronic diseases such as diabetes, heart disease, and certain cancers.\n",
      "\n",
      "2. **Enhanced Mental Well-being**: Exercise is known to boost mood and reduce symptoms of anxiety and depression. Physical activity releases endorphins, which can create feelings of happiness and euphoria.\n",
      "\n",
      "3. **Increased Energy Levels**: Engaging in regular physical activity can improve overall stamina and reduce feelings of fatigue. This can lead to increased productivity and a more active lifestyle.\n",
      "\n",
      "4. **Better Sleep Quality**: Regular exercise can help regulate sleep patterns and improve the quality of sleep, making it easier to fall asleep and stay asleep throughout the night.\n",
      "\n",
      "5. **Stronger Muscles and Bones**: Weight-bearing exercises help build and maintain strong muscles and bones, reducing the risk of osteoporosis and muscle loss as one ages. This contributes to better overall mobility and balance.\n",
      "\n",
      "Incorporating regular exercise into your routine can significantly enhance both your physical and mental health. \n",
      "\n",
      "\n"
     ]
    }
   ],
   "source": [
    "message = [\n",
    "    {\n",
    "        \"role\": \"user\",\n",
    "        \"content\": \"Provide a list of five benefits of regular exercise.\"\n",
    "    }\n",
    "]\n",
    "\n",
    "response = get_completion(messages=message)\n",
    "print(response, \"\\n\\n\")"
   ]
  },
  {
   "cell_type": "markdown",
   "metadata": {},
   "source": [
    "**Example #2: Paragraph Format**"
   ]
  },
  {
   "cell_type": "code",
   "execution_count": 9,
   "metadata": {},
   "outputs": [
    {
     "name": "stdout",
     "output_type": "stream",
     "text": [
      "Renewable energy is crucial for mitigating climate change, reducing dependence on fossil fuels, and promoting sustainable development. By harnessing natural resources such as sunlight, wind, and water, renewable energy sources produce electricity with minimal greenhouse gas emissions, thereby helping to lower global temperatures and combat environmental degradation. Additionally, the transition to renewable energy can stimulate economic growth through job creation in new industries, enhance energy security by diversifying energy supply, and improve public health by reducing air and water pollution. Overall, embracing renewable energy is vital for creating a sustainable future for both the planet and its inhabitants. \n",
      "\n",
      "\n"
     ]
    }
   ],
   "source": [
    "message = [\n",
    "    {\n",
    "        \"role\": \"user\",\n",
    "        \"content\": \"Explain the importance of renewable energy in a single paragraph.\"\n",
    "    }\n",
    "]\n",
    "\n",
    "response = get_completion(messages=message)\n",
    "print(response, \"\\n\\n\")"
   ]
  },
  {
   "cell_type": "markdown",
   "metadata": {},
   "source": [
    "**Example #3: Dialogue Format**"
   ]
  },
  {
   "cell_type": "code",
   "execution_count": 10,
   "metadata": {},
   "outputs": [
    {
     "name": "stdout",
     "output_type": "stream",
     "text": [
      "**Character A:** Hey, do you have any plans for the weekend?\n",
      "\n",
      "**Character B:** Not really, I was thinking about just relaxing at home. What about you?\n",
      "\n",
      "**Character A:** I was actually thinking of going hiking. There's that new trail that just opened up at the state park. I’ve heard the views are amazing!\n",
      "\n",
      "**Character B:** That sounds awesome! I love hiking, but I didn’t know about that trail. How long is it?\n",
      "\n",
      "---\n",
      "\n",
      "**Character A:** I think it’s about five miles round trip. It’s supposed to take a couple of hours, depending on how many breaks we take. Want to join me?\n",
      "\n",
      "**Character B:** I’d love to! I could use some fresh air and exercise. What time are you thinking of heading out?\n",
      "\n",
      "**Character A:** How about we leave around 8 AM? That way we can beat the heat and enjoy the morning light.\n",
      "\n",
      "---\n",
      "\n",
      "**Character B:** Perfect! I’ll pack some snacks and water. Do you want to grab breakfast before we go?\n",
      "\n",
      "**Character A:** That’s a great idea! There’s that little café downtown that has the best breakfast burritos. \n",
      "\n",
      "**Character B:** Yes! Let’s meet there at 7:00. I’m looking forward to it! \n",
      "\n",
      "**Character A:** Me too! It’s going to be a fun adventure! \n",
      "\n",
      "\n"
     ]
    }
   ],
   "source": [
    "message = [\n",
    "    {\n",
    "        \"role\": \"user\",\n",
    "        \"content\": \"Write a conversation between two characters (Name A and Name B) discussing their weekend plans. Include three multi-turn exchanges.\"\n",
    "    }\n",
    "]\n",
    "\n",
    "response = get_completion(messages=message)\n",
    "print(response, \"\\n\\n\")"
   ]
  },
  {
   "cell_type": "markdown",
   "metadata": {},
   "source": [
    "### **5.2.2 Use Consistent Terminology throughout Prompts** "
   ]
  },
  {
   "cell_type": "markdown",
   "metadata": {},
   "source": [
    "- Select specific terms and phrases to **use consistently** in all related prompts. This minimizes confusion and helps the model understand the context better.  \n",
    "\n",
    "    For example, if you choose \"user\" to refer to the person interacting with the model, use \"user\" instead of switching to \"client\" or \"participant.”"
   ]
  },
  {
   "cell_type": "markdown",
   "metadata": {},
   "source": [
    "### **5.2.3 Practice**"
   ]
  },
  {
   "cell_type": "markdown",
   "metadata": {},
   "source": [
    "**Exercise #1 : Response Format**"
   ]
  },
  {
   "cell_type": "markdown",
   "metadata": {},
   "source": [
    "Read the following text and summarize it. Limit the length. Group similar concepts together and classify them by type."
   ]
  },
  {
   "cell_type": "markdown",
   "metadata": {},
   "source": [
    "- Text :\n",
    "> **Face Amount**\n",
    "> \n",
    "> The dollar amount to be paid to the beneficiary when the insured dies. It does not include other amounts that may be paid from insurance purchased with dividends or any policy riders.\n",
    "> \n",
    "> **Financial Guarantee Insurance**\n",
    "> \n",
    "> A surety bond, insurance policy or, when issued by an insurer, an indemnity contract and any guaranty similar to the foregoing types, under which loss is payable upon proof of occurrence of financial loss to an insured claimant, obligee, or indemnitee.\n",
    "> \n",
    "> **Fire Insurance**\n",
    "> \n",
    "> Coverage for loss of or damage to a building and/or contents due to fire.\n",
    "> \n",
    "> **Good Driver Discount**\n",
    "> \n",
    "> To be eligible for the Good Drivers Discount all operators of the insured vehicles must have been licensed for three or more year, have no more than a one (1) point charge on their driving record and has not been determined \"at fault\" in an accident resulting in bodily injury or death to any person.\n",
    "> \n",
    "> **Grace Period**\n",
    "> \n",
    "> A specified period immediately following the premium due date during which a payment can be made to continue a policy in force without interruption. This applies only to Life and Health policies. Check your policy to be sure that a grace period is offered and how many days, if any, are allowed.\n",
    "> \n",
    "> **Guaranteed Insurability**\n",
    "> \n",
    "> An option that permits the policy holder to buy additional stated amounts of life insurance at stated times in the future without evidence of insurability.\n",
    "> \n",
    "> **Health Insurance**\n",
    "> \n",
    "> A policy that will pay specifies sums for medical expenses or treatments. Health policies can offer many options and vary in their approaches to coverage.\n",
    "> \n",
    "> **Homeowner Insurance**\n",
    "> \n",
    "> An elective combination of coverages for the risks of owning a home. Can include losses due to fire, burglary, vandalism, earthquake, and other perils.\n",
    "> \n",
    "> **Incontestable Clause**\n",
    "> \n",
    "> A policy provision in which the company agrees not to contest the validity of the contract after it has been in force for a certain period of time, usually two years."
   ]
  },
  {
   "cell_type": "code",
   "execution_count": null,
   "metadata": {},
   "outputs": [],
   "source": [
    "message = [\n",
    "    {\n",
    "        \"role\": \"user\",\n",
    "        \"content\": \" \" # ←- Insert your prompt here.\n",
    "    }\n",
    "]\n",
    "\n",
    "response = get_completion(messages=message)\n",
    "print(response, \"\\n\\n\")"
   ]
  },
  {
   "cell_type": "markdown",
   "metadata": {},
   "source": [
    "**$\\rightarrow$ Expected Output:**\n",
    "\n",
    "> 1. **Insurance Types**:\n",
    "> - Financial Guarantee Insurance: A contract that covers financial loss.\n",
    "> - Fire Insurance: Covers loss or damage due to fire.\n",
    "> - Health Insurance: Pays for medical expenses or treatments.\n",
    "> - Homeowner Insurance: Covers risks of owning a home, like fire, burglary, etc.\n",
    "> 2. **Policy Features**:\n",
    "> - Face Amount: The dollar amount paid to the beneficiary upon the insured's death.\n",
    "> - Good Driver Discount: Discount for drivers with clean records.\n",
    "> - Grace Period: Period after premium due date to continue a policy without interruption.\n",
    "> - Guaranteed Insurability: Option to buy additional insurance without evidence of insurability.\n",
    "> - Incontestable Clause: Provision preventing the company from contesting the contract's validity after a certain period.\n",
    "  \n",
    "  "
   ]
  },
  {
   "cell_type": "markdown",
   "metadata": {},
   "source": [
    "**Exercise #2: Terminology Consistency**"
   ]
  },
  {
   "cell_type": "markdown",
   "metadata": {},
   "source": [
    "Explain the differences between a 'meme' and a 'viral video' in the context of social media marketing. Use 'content' to refer to both."
   ]
  },
  {
   "cell_type": "code",
   "execution_count": null,
   "metadata": {},
   "outputs": [],
   "source": [
    "message = [\n",
    "    {\n",
    "        \"role\": \"user\",\n",
    "        \"content\": \" \" # ←- Insert your prompt here.\n",
    "    }\n",
    "]\n",
    "\n",
    "response = get_completion(messages=message)\n",
    "print(response, \"\\n\\n\")"
   ]
  },
  {
   "cell_type": "markdown",
   "metadata": {},
   "source": [
    "**$\\rightarrow$ Expected Output:**\n",
    "\n",
    "> A meme is a type of content that spreads humor or cultural ideas through images and text, while a viral video is a type of content that rapidly gains popularity and is shared widely across platforms. "
   ]
  }
 ],
 "metadata": {
  "kernelspec": {
   "display_name": "Python 3 (ipykernel)",
   "language": "python",
   "name": "python3"
  },
  "language_info": {
   "codemirror_mode": {
    "name": "ipython",
    "version": 3
   },
   "file_extension": ".py",
   "mimetype": "text/x-python",
   "name": "python",
   "nbconvert_exporter": "python",
   "pygments_lexer": "ipython3",
   "version": "3.9.13"
  }
 },
 "nbformat": 4,
 "nbformat_minor": 2
}
